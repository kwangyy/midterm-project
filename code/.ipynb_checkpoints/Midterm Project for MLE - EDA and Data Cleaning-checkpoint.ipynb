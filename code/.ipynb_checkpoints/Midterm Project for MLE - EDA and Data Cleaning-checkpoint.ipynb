{
 "cells": [
  {
   "cell_type": "code",
   "execution_count": 1,
   "id": "750c64f2",
   "metadata": {
    "_cell_guid": "b1076dfc-b9ad-4769-8c92-a6c4dae69d19",
    "_uuid": "8f2839f25d086af736a60e9eeb907d3b93b6e0e5",
    "execution": {
     "iopub.execute_input": "2021-10-21T09:36:23.152231Z",
     "iopub.status.busy": "2021-10-21T09:36:23.144474Z",
     "iopub.status.idle": "2021-10-21T09:36:23.171977Z",
     "shell.execute_reply": "2021-10-21T09:36:23.171276Z",
     "shell.execute_reply.started": "2021-10-21T09:13:01.716275Z"
    },
    "papermill": {
     "duration": 0.07471,
     "end_time": "2021-10-21T09:36:23.172117",
     "exception": false,
     "start_time": "2021-10-21T09:36:23.097407",
     "status": "completed"
    },
    "tags": []
   },
   "outputs": [
    {
     "name": "stdout",
     "output_type": "stream",
     "text": [
      "/kaggle/input/data-science-and-stem-salaries/Levels_Fyi_Salary_Data.csv\n"
     ]
    }
   ],
   "source": [
    "data = pd.read_csv(r'C:\\Users\\User\\Desktop\\midterm-project\\midterm-project\\data\\cleaned_data.csv')"
   ]
  },
  {
   "cell_type": "markdown",
   "id": "dfc7cc21",
   "metadata": {
    "papermill": {
     "duration": 0.042839,
     "end_time": "2021-10-21T09:36:23.258308",
     "exception": false,
     "start_time": "2021-10-21T09:36:23.215469",
     "status": "completed"
    },
    "tags": []
   },
   "source": [
    "This is a project on predicting Data Science and STEM Salaries. This is done as part of the [Machine Learning Engineering course](https://airtable.com/shr6Gz46UZCgJ9l6w) held by Alexey Grigorev. \n",
    "\n",
    "This notebook is specifically for cleaning data as well as Exploratory Data Analysis (EDA). The Github version is the same as the Kaggle version, which can be found [here](https://www.kaggle.com/kwangyangchia/midterm-project-for-mle)\n",
    "\n",
    "The problem and the data is specified on the README.md!"
   ]
  },
  {
   "cell_type": "code",
   "execution_count": 2,
   "id": "a28961f2",
   "metadata": {
    "execution": {
     "iopub.execute_input": "2021-10-21T09:36:23.349783Z",
     "iopub.status.busy": "2021-10-21T09:36:23.349112Z",
     "iopub.status.idle": "2021-10-21T09:36:23.877562Z",
     "shell.execute_reply": "2021-10-21T09:36:23.878126Z",
     "shell.execute_reply.started": "2021-10-21T09:13:01.732593Z"
    },
    "papermill": {
     "duration": 0.575713,
     "end_time": "2021-10-21T09:36:23.878328",
     "exception": false,
     "start_time": "2021-10-21T09:36:23.302615",
     "status": "completed"
    },
    "tags": []
   },
   "outputs": [
    {
     "data": {
      "text/html": [
       "<div>\n",
       "<style scoped>\n",
       "    .dataframe tbody tr th:only-of-type {\n",
       "        vertical-align: middle;\n",
       "    }\n",
       "\n",
       "    .dataframe tbody tr th {\n",
       "        vertical-align: top;\n",
       "    }\n",
       "\n",
       "    .dataframe thead th {\n",
       "        text-align: right;\n",
       "    }\n",
       "</style>\n",
       "<table border=\"1\" class=\"dataframe\">\n",
       "  <thead>\n",
       "    <tr style=\"text-align: right;\">\n",
       "      <th></th>\n",
       "      <th>timestamp</th>\n",
       "      <th>company</th>\n",
       "      <th>level</th>\n",
       "      <th>title</th>\n",
       "      <th>totalyearlycompensation</th>\n",
       "      <th>location</th>\n",
       "      <th>yearsofexperience</th>\n",
       "      <th>yearsatcompany</th>\n",
       "      <th>tag</th>\n",
       "      <th>basesalary</th>\n",
       "      <th>...</th>\n",
       "      <th>Doctorate_Degree</th>\n",
       "      <th>Highschool</th>\n",
       "      <th>Some_College</th>\n",
       "      <th>Race_Asian</th>\n",
       "      <th>Race_White</th>\n",
       "      <th>Race_Two_Or_More</th>\n",
       "      <th>Race_Black</th>\n",
       "      <th>Race_Hispanic</th>\n",
       "      <th>Race</th>\n",
       "      <th>Education</th>\n",
       "    </tr>\n",
       "  </thead>\n",
       "  <tbody>\n",
       "    <tr>\n",
       "      <th>0</th>\n",
       "      <td>6/7/2017 11:33:27</td>\n",
       "      <td>Oracle</td>\n",
       "      <td>L3</td>\n",
       "      <td>Product Manager</td>\n",
       "      <td>127000</td>\n",
       "      <td>Redwood City, CA</td>\n",
       "      <td>1.5</td>\n",
       "      <td>1.5</td>\n",
       "      <td>NaN</td>\n",
       "      <td>107000.0</td>\n",
       "      <td>...</td>\n",
       "      <td>0</td>\n",
       "      <td>0</td>\n",
       "      <td>0</td>\n",
       "      <td>0</td>\n",
       "      <td>0</td>\n",
       "      <td>0</td>\n",
       "      <td>0</td>\n",
       "      <td>0</td>\n",
       "      <td>NaN</td>\n",
       "      <td>NaN</td>\n",
       "    </tr>\n",
       "    <tr>\n",
       "      <th>1</th>\n",
       "      <td>6/10/2017 17:11:29</td>\n",
       "      <td>eBay</td>\n",
       "      <td>SE 2</td>\n",
       "      <td>Software Engineer</td>\n",
       "      <td>100000</td>\n",
       "      <td>San Francisco, CA</td>\n",
       "      <td>5.0</td>\n",
       "      <td>3.0</td>\n",
       "      <td>NaN</td>\n",
       "      <td>0.0</td>\n",
       "      <td>...</td>\n",
       "      <td>0</td>\n",
       "      <td>0</td>\n",
       "      <td>0</td>\n",
       "      <td>0</td>\n",
       "      <td>0</td>\n",
       "      <td>0</td>\n",
       "      <td>0</td>\n",
       "      <td>0</td>\n",
       "      <td>NaN</td>\n",
       "      <td>NaN</td>\n",
       "    </tr>\n",
       "    <tr>\n",
       "      <th>2</th>\n",
       "      <td>6/11/2017 14:53:57</td>\n",
       "      <td>Amazon</td>\n",
       "      <td>L7</td>\n",
       "      <td>Product Manager</td>\n",
       "      <td>310000</td>\n",
       "      <td>Seattle, WA</td>\n",
       "      <td>8.0</td>\n",
       "      <td>0.0</td>\n",
       "      <td>NaN</td>\n",
       "      <td>155000.0</td>\n",
       "      <td>...</td>\n",
       "      <td>0</td>\n",
       "      <td>0</td>\n",
       "      <td>0</td>\n",
       "      <td>0</td>\n",
       "      <td>0</td>\n",
       "      <td>0</td>\n",
       "      <td>0</td>\n",
       "      <td>0</td>\n",
       "      <td>NaN</td>\n",
       "      <td>NaN</td>\n",
       "    </tr>\n",
       "    <tr>\n",
       "      <th>3</th>\n",
       "      <td>6/17/2017 0:23:14</td>\n",
       "      <td>Apple</td>\n",
       "      <td>M1</td>\n",
       "      <td>Software Engineering Manager</td>\n",
       "      <td>372000</td>\n",
       "      <td>Sunnyvale, CA</td>\n",
       "      <td>7.0</td>\n",
       "      <td>5.0</td>\n",
       "      <td>NaN</td>\n",
       "      <td>157000.0</td>\n",
       "      <td>...</td>\n",
       "      <td>0</td>\n",
       "      <td>0</td>\n",
       "      <td>0</td>\n",
       "      <td>0</td>\n",
       "      <td>0</td>\n",
       "      <td>0</td>\n",
       "      <td>0</td>\n",
       "      <td>0</td>\n",
       "      <td>NaN</td>\n",
       "      <td>NaN</td>\n",
       "    </tr>\n",
       "    <tr>\n",
       "      <th>4</th>\n",
       "      <td>6/20/2017 10:58:51</td>\n",
       "      <td>Microsoft</td>\n",
       "      <td>60</td>\n",
       "      <td>Software Engineer</td>\n",
       "      <td>157000</td>\n",
       "      <td>Mountain View, CA</td>\n",
       "      <td>5.0</td>\n",
       "      <td>3.0</td>\n",
       "      <td>NaN</td>\n",
       "      <td>0.0</td>\n",
       "      <td>...</td>\n",
       "      <td>0</td>\n",
       "      <td>0</td>\n",
       "      <td>0</td>\n",
       "      <td>0</td>\n",
       "      <td>0</td>\n",
       "      <td>0</td>\n",
       "      <td>0</td>\n",
       "      <td>0</td>\n",
       "      <td>NaN</td>\n",
       "      <td>NaN</td>\n",
       "    </tr>\n",
       "  </tbody>\n",
       "</table>\n",
       "<p>5 rows × 29 columns</p>\n",
       "</div>"
      ],
      "text/plain": [
       "            timestamp    company level                         title  \\\n",
       "0   6/7/2017 11:33:27     Oracle    L3               Product Manager   \n",
       "1  6/10/2017 17:11:29       eBay  SE 2             Software Engineer   \n",
       "2  6/11/2017 14:53:57     Amazon    L7               Product Manager   \n",
       "3   6/17/2017 0:23:14      Apple    M1  Software Engineering Manager   \n",
       "4  6/20/2017 10:58:51  Microsoft    60             Software Engineer   \n",
       "\n",
       "   totalyearlycompensation           location  yearsofexperience  \\\n",
       "0                   127000   Redwood City, CA                1.5   \n",
       "1                   100000  San Francisco, CA                5.0   \n",
       "2                   310000        Seattle, WA                8.0   \n",
       "3                   372000      Sunnyvale, CA                7.0   \n",
       "4                   157000  Mountain View, CA                5.0   \n",
       "\n",
       "   yearsatcompany  tag  basesalary  ...  Doctorate_Degree  Highschool  \\\n",
       "0             1.5  NaN    107000.0  ...                 0           0   \n",
       "1             3.0  NaN         0.0  ...                 0           0   \n",
       "2             0.0  NaN    155000.0  ...                 0           0   \n",
       "3             5.0  NaN    157000.0  ...                 0           0   \n",
       "4             3.0  NaN         0.0  ...                 0           0   \n",
       "\n",
       "  Some_College Race_Asian  Race_White  Race_Two_Or_More  Race_Black  \\\n",
       "0            0          0           0                 0           0   \n",
       "1            0          0           0                 0           0   \n",
       "2            0          0           0                 0           0   \n",
       "3            0          0           0                 0           0   \n",
       "4            0          0           0                 0           0   \n",
       "\n",
       "   Race_Hispanic  Race  Education  \n",
       "0              0   NaN        NaN  \n",
       "1              0   NaN        NaN  \n",
       "2              0   NaN        NaN  \n",
       "3              0   NaN        NaN  \n",
       "4              0   NaN        NaN  \n",
       "\n",
       "[5 rows x 29 columns]"
      ]
     },
     "execution_count": 2,
     "metadata": {},
     "output_type": "execute_result"
    }
   ],
   "source": [
    "# Reading the data\n",
    "df = pd.read_csv('../input/data-science-and-stem-salaries/Levels_Fyi_Salary_Data.csv')\n",
    "data = df.copy()\n",
    "data.head()"
   ]
  },
  {
   "cell_type": "code",
   "execution_count": 3,
   "id": "3a69bd39",
   "metadata": {
    "execution": {
     "iopub.execute_input": "2021-10-21T09:36:24.029862Z",
     "iopub.status.busy": "2021-10-21T09:36:24.028900Z",
     "iopub.status.idle": "2021-10-21T09:36:24.037917Z",
     "shell.execute_reply": "2021-10-21T09:36:24.038458Z",
     "shell.execute_reply.started": "2021-10-21T09:13:02.323464Z"
    },
    "papermill": {
     "duration": 0.092663,
     "end_time": "2021-10-21T09:36:24.038635",
     "exception": false,
     "start_time": "2021-10-21T09:36:23.945972",
     "status": "completed"
    },
    "tags": []
   },
   "outputs": [
    {
     "data": {
      "text/plain": [
       "timestamp                   object\n",
       "company                     object\n",
       "level                       object\n",
       "title                       object\n",
       "totalyearlycompensation      int64\n",
       "location                    object\n",
       "yearsofexperience          float64\n",
       "yearsatcompany             float64\n",
       "tag                         object\n",
       "basesalary                 float64\n",
       "stockgrantvalue            float64\n",
       "bonus                      float64\n",
       "gender                      object\n",
       "otherdetails                object\n",
       "cityid                       int64\n",
       "dmaid                      float64\n",
       "rowNumber                    int64\n",
       "Masters_Degree               int64\n",
       "Bachelors_Degree             int64\n",
       "Doctorate_Degree             int64\n",
       "Highschool                   int64\n",
       "Some_College                 int64\n",
       "Race_Asian                   int64\n",
       "Race_White                   int64\n",
       "Race_Two_Or_More             int64\n",
       "Race_Black                   int64\n",
       "Race_Hispanic                int64\n",
       "Race                        object\n",
       "Education                   object\n",
       "dtype: object"
      ]
     },
     "execution_count": 3,
     "metadata": {},
     "output_type": "execute_result"
    }
   ],
   "source": [
    "# Variable data types - are they numerical or categorical?\n",
    "data.dtypes"
   ]
  },
  {
   "cell_type": "code",
   "execution_count": 4,
   "id": "189bbc78",
   "metadata": {
    "execution": {
     "iopub.execute_input": "2021-10-21T09:36:24.177493Z",
     "iopub.status.busy": "2021-10-21T09:36:24.176807Z",
     "iopub.status.idle": "2021-10-21T09:36:24.184460Z",
     "shell.execute_reply": "2021-10-21T09:36:24.185015Z",
     "shell.execute_reply.started": "2021-10-21T09:13:02.333663Z"
    },
    "papermill": {
     "duration": 0.078726,
     "end_time": "2021-10-21T09:36:24.185199",
     "exception": false,
     "start_time": "2021-10-21T09:36:24.106473",
     "status": "completed"
    },
    "tags": []
   },
   "outputs": [],
   "source": [
    "# Sorting of variables into numerical and categorical variables\n",
    "categorical = []\n",
    "numerical = []\n",
    "\n",
    "for column in data.columns:\n",
    "    if data[column].dtype == 'object':\n",
    "        categorical.append(column)\n",
    "    else:\n",
    "        numerical.append(column)"
   ]
  },
  {
   "cell_type": "markdown",
   "id": "db65d82d",
   "metadata": {
    "papermill": {
     "duration": 0.043028,
     "end_time": "2021-10-21T09:36:24.377098",
     "exception": false,
     "start_time": "2021-10-21T09:36:24.334070",
     "status": "completed"
    },
    "tags": []
   },
   "source": [
    "## Correlation with 'Total Yearly Compensation'\n",
    "We can find the numerical variables that have a pretty good correlation with our target variable, \"Total Yearly Compensation\"."
   ]
  },
  {
   "cell_type": "code",
   "execution_count": 5,
   "id": "f0be25ec",
   "metadata": {
    "execution": {
     "iopub.execute_input": "2021-10-21T09:36:24.467992Z",
     "iopub.status.busy": "2021-10-21T09:36:24.467461Z",
     "iopub.status.idle": "2021-10-21T09:36:24.503433Z",
     "shell.execute_reply": "2021-10-21T09:36:24.503844Z",
     "shell.execute_reply.started": "2021-10-21T09:13:02.350050Z"
    },
    "papermill": {
     "duration": 0.083025,
     "end_time": "2021-10-21T09:36:24.503970",
     "exception": false,
     "start_time": "2021-10-21T09:36:24.420945",
     "status": "completed"
    },
    "tags": []
   },
   "outputs": [
    {
     "data": {
      "text/html": [
       "<div>\n",
       "<style scoped>\n",
       "    .dataframe tbody tr th:only-of-type {\n",
       "        vertical-align: middle;\n",
       "    }\n",
       "\n",
       "    .dataframe tbody tr th {\n",
       "        vertical-align: top;\n",
       "    }\n",
       "\n",
       "    .dataframe thead th {\n",
       "        text-align: right;\n",
       "    }\n",
       "</style>\n",
       "<table border=\"1\" class=\"dataframe\">\n",
       "  <thead>\n",
       "    <tr style=\"text-align: right;\">\n",
       "      <th></th>\n",
       "      <th>values</th>\n",
       "    </tr>\n",
       "  </thead>\n",
       "  <tbody>\n",
       "    <tr>\n",
       "      <th>totalyearlycompensation</th>\n",
       "      <td>1.000000</td>\n",
       "    </tr>\n",
       "    <tr>\n",
       "      <th>yearsofexperience</th>\n",
       "      <td>0.422879</td>\n",
       "    </tr>\n",
       "    <tr>\n",
       "      <th>yearsatcompany</th>\n",
       "      <td>0.165802</td>\n",
       "    </tr>\n",
       "    <tr>\n",
       "      <th>basesalary</th>\n",
       "      <td>0.672865</td>\n",
       "    </tr>\n",
       "    <tr>\n",
       "      <th>stockgrantvalue</th>\n",
       "      <td>0.770756</td>\n",
       "    </tr>\n",
       "    <tr>\n",
       "      <th>bonus</th>\n",
       "      <td>0.489454</td>\n",
       "    </tr>\n",
       "    <tr>\n",
       "      <th>cityid</th>\n",
       "      <td>-0.110204</td>\n",
       "    </tr>\n",
       "    <tr>\n",
       "      <th>dmaid</th>\n",
       "      <td>0.376346</td>\n",
       "    </tr>\n",
       "    <tr>\n",
       "      <th>rowNumber</th>\n",
       "      <td>-0.092622</td>\n",
       "    </tr>\n",
       "    <tr>\n",
       "      <th>Masters_Degree</th>\n",
       "      <td>0.018320</td>\n",
       "    </tr>\n",
       "    <tr>\n",
       "      <th>Bachelors_Degree</th>\n",
       "      <td>-0.139866</td>\n",
       "    </tr>\n",
       "    <tr>\n",
       "      <th>Doctorate_Degree</th>\n",
       "      <td>0.097179</td>\n",
       "    </tr>\n",
       "    <tr>\n",
       "      <th>Highschool</th>\n",
       "      <td>-0.014831</td>\n",
       "    </tr>\n",
       "    <tr>\n",
       "      <th>Some_College</th>\n",
       "      <td>-0.003380</td>\n",
       "    </tr>\n",
       "    <tr>\n",
       "      <th>Race_Asian</th>\n",
       "      <td>-0.080072</td>\n",
       "    </tr>\n",
       "    <tr>\n",
       "      <th>Race_White</th>\n",
       "      <td>-0.027802</td>\n",
       "    </tr>\n",
       "    <tr>\n",
       "      <th>Race_Two_Or_More</th>\n",
       "      <td>-0.009623</td>\n",
       "    </tr>\n",
       "    <tr>\n",
       "      <th>Race_Black</th>\n",
       "      <td>-0.026741</td>\n",
       "    </tr>\n",
       "    <tr>\n",
       "      <th>Race_Hispanic</th>\n",
       "      <td>-0.026145</td>\n",
       "    </tr>\n",
       "  </tbody>\n",
       "</table>\n",
       "</div>"
      ],
      "text/plain": [
       "                           values\n",
       "totalyearlycompensation  1.000000\n",
       "yearsofexperience        0.422879\n",
       "yearsatcompany           0.165802\n",
       "basesalary               0.672865\n",
       "stockgrantvalue          0.770756\n",
       "bonus                    0.489454\n",
       "cityid                  -0.110204\n",
       "dmaid                    0.376346\n",
       "rowNumber               -0.092622\n",
       "Masters_Degree           0.018320\n",
       "Bachelors_Degree        -0.139866\n",
       "Doctorate_Degree         0.097179\n",
       "Highschool              -0.014831\n",
       "Some_College            -0.003380\n",
       "Race_Asian              -0.080072\n",
       "Race_White              -0.027802\n",
       "Race_Two_Or_More        -0.009623\n",
       "Race_Black              -0.026741\n",
       "Race_Hispanic           -0.026145"
      ]
     },
     "execution_count": 5,
     "metadata": {},
     "output_type": "execute_result"
    }
   ],
   "source": [
    "correlation = pd.DataFrame(data[numerical].corrwith(data['totalyearlycompensation']), columns = ['values'])\n",
    "correlation"
   ]
  },
  {
   "cell_type": "markdown",
   "id": "c603d629",
   "metadata": {
    "papermill": {
     "duration": 0.044217,
     "end_time": "2021-10-21T09:36:24.591289",
     "exception": false,
     "start_time": "2021-10-21T09:36:24.547072",
     "status": "completed"
    },
    "tags": []
   },
   "source": [
    "## Missing Data\n",
    "\n",
    "A very essential part of data preprocessing is how many values are missing, and deciding what to do with the missing values themselves. Let's take a look! "
   ]
  },
  {
   "cell_type": "code",
   "execution_count": 6,
   "id": "234923ef",
   "metadata": {
    "execution": {
     "iopub.execute_input": "2021-10-21T09:36:24.683156Z",
     "iopub.status.busy": "2021-10-21T09:36:24.682670Z",
     "iopub.status.idle": "2021-10-21T09:36:24.715807Z",
     "shell.execute_reply": "2021-10-21T09:36:24.716194Z",
     "shell.execute_reply.started": "2021-10-21T09:13:02.401784Z"
    },
    "papermill": {
     "duration": 0.081213,
     "end_time": "2021-10-21T09:36:24.716353",
     "exception": false,
     "start_time": "2021-10-21T09:36:24.635140",
     "status": "completed"
    },
    "tags": []
   },
   "outputs": [
    {
     "data": {
      "text/plain": [
       "timestamp                      0\n",
       "company                        5\n",
       "level                        119\n",
       "title                          0\n",
       "totalyearlycompensation        0\n",
       "location                       0\n",
       "yearsofexperience              0\n",
       "yearsatcompany                 0\n",
       "tag                          854\n",
       "basesalary                     0\n",
       "stockgrantvalue                0\n",
       "bonus                          0\n",
       "gender                     19540\n",
       "otherdetails               22505\n",
       "cityid                         0\n",
       "dmaid                          2\n",
       "rowNumber                      0\n",
       "Masters_Degree                 0\n",
       "Bachelors_Degree               0\n",
       "Doctorate_Degree               0\n",
       "Highschool                     0\n",
       "Some_College                   0\n",
       "Race_Asian                     0\n",
       "Race_White                     0\n",
       "Race_Two_Or_More               0\n",
       "Race_Black                     0\n",
       "Race_Hispanic                  0\n",
       "Race                       40215\n",
       "Education                  32272\n",
       "dtype: int64"
      ]
     },
     "execution_count": 6,
     "metadata": {},
     "output_type": "execute_result"
    }
   ],
   "source": [
    "data.isna().sum()"
   ]
  },
  {
   "cell_type": "markdown",
   "id": "f5873b42",
   "metadata": {
    "papermill": {
     "duration": 0.04516,
     "end_time": "2021-10-21T09:36:24.805788",
     "exception": false,
     "start_time": "2021-10-21T09:36:24.760628",
     "status": "completed"
    },
    "tags": []
   },
   "source": [
    "If we look at the dataset itself, we realise that a huge proportion of 'Race' and 'Education' are missing. This is likely because the content is already reflected in the other columns. \n",
    "\n",
    "But we can take a further look with that later! Let's start with 'Other Details' first!"
   ]
  },
  {
   "cell_type": "markdown",
   "id": "46a49bb8",
   "metadata": {
    "papermill": {
     "duration": 0.043521,
     "end_time": "2021-10-21T09:36:24.894107",
     "exception": false,
     "start_time": "2021-10-21T09:36:24.850586",
     "status": "completed"
    },
    "tags": []
   },
   "source": [
    "## Other Details "
   ]
  },
  {
   "cell_type": "code",
   "execution_count": 7,
   "id": "763d4d2e",
   "metadata": {
    "execution": {
     "iopub.execute_input": "2021-10-21T09:36:24.985515Z",
     "iopub.status.busy": "2021-10-21T09:36:24.985015Z",
     "iopub.status.idle": "2021-10-21T09:36:25.002588Z",
     "shell.execute_reply": "2021-10-21T09:36:25.003004Z",
     "shell.execute_reply.started": "2021-10-21T09:13:02.476341Z"
    },
    "papermill": {
     "duration": 0.064974,
     "end_time": "2021-10-21T09:36:25.003162",
     "exception": false,
     "start_time": "2021-10-21T09:36:24.938188",
     "status": "completed"
    },
    "tags": []
   },
   "outputs": [
    {
     "data": {
      "text/plain": [
       "Masters                                                                                                                                3983\n",
       "Title: Software Engineer                                                                                                               1453\n",
       "Race: Asian, Academic Level: Master’s degree                                                                                           1213\n",
       "Race: White, Academic Level: Bachelor’s degree                                                                                         1075\n",
       "Race: Asian, Academic Level: Bachelor’s degree                                                                                          977\n",
       "                                                                                                                                       ... \n",
       "150,000 sign on, Title: Sr. Engineering Manager, Race: White, Academic Level: Doctorate (PhD)                                             1\n",
       "Title: Sde2, Race: Two or More Races, Academic Level: Doctorate (PhD)                                                                     1\n",
       "10k relocation, 20k sign in bonus, 35k RSU over 4 years, Title: Tech Lead, Race: Hispanic / Latino, Academic Level: Master’s degree       1\n",
       "Title: Pm 3                                                                                                                               1\n",
       "industry hire                                                                                                                             1\n",
       "Name: otherdetails, Length: 12841, dtype: int64"
      ]
     },
     "execution_count": 7,
     "metadata": {},
     "output_type": "execute_result"
    }
   ],
   "source": [
    "data['otherdetails'].value_counts()"
   ]
  },
  {
   "cell_type": "markdown",
   "id": "65fd6d2c",
   "metadata": {
    "papermill": {
     "duration": 0.046917,
     "end_time": "2021-10-21T09:36:25.097038",
     "exception": false,
     "start_time": "2021-10-21T09:36:25.050121",
     "status": "completed"
    },
    "tags": []
   },
   "source": [
    "Most of these 'Other Details' are actually details about their race, title and education. Therefore, this column shouldn't be really necessary for us as we have other columns like these in the dataset."
   ]
  },
  {
   "cell_type": "code",
   "execution_count": 8,
   "id": "4901cdc8",
   "metadata": {
    "execution": {
     "iopub.execute_input": "2021-10-21T09:36:25.191865Z",
     "iopub.status.busy": "2021-10-21T09:36:25.191331Z",
     "iopub.status.idle": "2021-10-21T09:36:25.195801Z",
     "shell.execute_reply": "2021-10-21T09:36:25.196233Z",
     "shell.execute_reply.started": "2021-10-21T09:13:02.503975Z"
    },
    "papermill": {
     "duration": 0.053614,
     "end_time": "2021-10-21T09:36:25.196381",
     "exception": false,
     "start_time": "2021-10-21T09:36:25.142767",
     "status": "completed"
    },
    "tags": []
   },
   "outputs": [],
   "source": [
    "del data['otherdetails']"
   ]
  },
  {
   "cell_type": "markdown",
   "id": "b63f3ec5",
   "metadata": {
    "papermill": {
     "duration": 0.044887,
     "end_time": "2021-10-21T09:36:25.286814",
     "exception": false,
     "start_time": "2021-10-21T09:36:25.241927",
     "status": "completed"
    },
    "tags": []
   },
   "source": [
    "## Race & Education\n",
    "As mentioned, the columns Race and Education took up quite a lot of the missing values. Let us take a closer look at this, with a very specific query on Race."
   ]
  },
  {
   "cell_type": "code",
   "execution_count": 9,
   "id": "c1172004",
   "metadata": {
    "execution": {
     "iopub.execute_input": "2021-10-21T09:36:25.407275Z",
     "iopub.status.busy": "2021-10-21T09:36:25.406611Z",
     "iopub.status.idle": "2021-10-21T09:36:25.443281Z",
     "shell.execute_reply": "2021-10-21T09:36:25.442626Z",
     "shell.execute_reply.started": "2021-10-21T09:13:02.511282Z"
    },
    "papermill": {
     "duration": 0.110389,
     "end_time": "2021-10-21T09:36:25.443412",
     "exception": false,
     "start_time": "2021-10-21T09:36:25.333023",
     "status": "completed"
    },
    "tags": []
   },
   "outputs": [
    {
     "data": {
      "text/html": [
       "<div>\n",
       "<style scoped>\n",
       "    .dataframe tbody tr th:only-of-type {\n",
       "        vertical-align: middle;\n",
       "    }\n",
       "\n",
       "    .dataframe tbody tr th {\n",
       "        vertical-align: top;\n",
       "    }\n",
       "\n",
       "    .dataframe thead th {\n",
       "        text-align: right;\n",
       "    }\n",
       "</style>\n",
       "<table border=\"1\" class=\"dataframe\">\n",
       "  <thead>\n",
       "    <tr style=\"text-align: right;\">\n",
       "      <th></th>\n",
       "      <th>timestamp</th>\n",
       "      <th>company</th>\n",
       "      <th>level</th>\n",
       "      <th>title</th>\n",
       "      <th>totalyearlycompensation</th>\n",
       "      <th>location</th>\n",
       "      <th>yearsofexperience</th>\n",
       "      <th>yearsatcompany</th>\n",
       "      <th>tag</th>\n",
       "      <th>basesalary</th>\n",
       "      <th>...</th>\n",
       "      <th>Doctorate_Degree</th>\n",
       "      <th>Highschool</th>\n",
       "      <th>Some_College</th>\n",
       "      <th>Race_Asian</th>\n",
       "      <th>Race_White</th>\n",
       "      <th>Race_Two_Or_More</th>\n",
       "      <th>Race_Black</th>\n",
       "      <th>Race_Hispanic</th>\n",
       "      <th>Race</th>\n",
       "      <th>Education</th>\n",
       "    </tr>\n",
       "  </thead>\n",
       "  <tbody>\n",
       "    <tr>\n",
       "      <th>8366</th>\n",
       "      <td>7/2/2019 16:43:16</td>\n",
       "      <td>Intel</td>\n",
       "      <td>Grade 7</td>\n",
       "      <td>Hardware Engineer</td>\n",
       "      <td>200000</td>\n",
       "      <td>Santa Clara, CA</td>\n",
       "      <td>14.0</td>\n",
       "      <td>3.0</td>\n",
       "      <td>Physical Design</td>\n",
       "      <td>163000.0</td>\n",
       "      <td>...</td>\n",
       "      <td>0</td>\n",
       "      <td>0</td>\n",
       "      <td>0</td>\n",
       "      <td>1</td>\n",
       "      <td>0</td>\n",
       "      <td>0</td>\n",
       "      <td>0</td>\n",
       "      <td>0</td>\n",
       "      <td>Asian</td>\n",
       "      <td>NaN</td>\n",
       "    </tr>\n",
       "    <tr>\n",
       "      <th>11997</th>\n",
       "      <td>10/13/2019 11:43:20</td>\n",
       "      <td>Latch</td>\n",
       "      <td>Manager</td>\n",
       "      <td>Software Engineering Manager</td>\n",
       "      <td>170000</td>\n",
       "      <td>New York, NY</td>\n",
       "      <td>6.0</td>\n",
       "      <td>2.0</td>\n",
       "      <td>Full Stack</td>\n",
       "      <td>170000.0</td>\n",
       "      <td>...</td>\n",
       "      <td>0</td>\n",
       "      <td>0</td>\n",
       "      <td>0</td>\n",
       "      <td>1</td>\n",
       "      <td>0</td>\n",
       "      <td>0</td>\n",
       "      <td>0</td>\n",
       "      <td>0</td>\n",
       "      <td>Asian</td>\n",
       "      <td>NaN</td>\n",
       "    </tr>\n",
       "    <tr>\n",
       "      <th>14429</th>\n",
       "      <td>12/30/2019 11:16:12</td>\n",
       "      <td>Intuit</td>\n",
       "      <td>Software Engineer 1</td>\n",
       "      <td>Software Engineer</td>\n",
       "      <td>134000</td>\n",
       "      <td>Mountain View, CA</td>\n",
       "      <td>1.0</td>\n",
       "      <td>1.0</td>\n",
       "      <td>Web Development (Front-End)</td>\n",
       "      <td>110000.0</td>\n",
       "      <td>...</td>\n",
       "      <td>0</td>\n",
       "      <td>0</td>\n",
       "      <td>0</td>\n",
       "      <td>1</td>\n",
       "      <td>0</td>\n",
       "      <td>0</td>\n",
       "      <td>0</td>\n",
       "      <td>0</td>\n",
       "      <td>Asian</td>\n",
       "      <td>NaN</td>\n",
       "    </tr>\n",
       "    <tr>\n",
       "      <th>15710</th>\n",
       "      <td>1/27/2020 22:59:06</td>\n",
       "      <td>Google</td>\n",
       "      <td>L6</td>\n",
       "      <td>Software Engineer</td>\n",
       "      <td>400000</td>\n",
       "      <td>Sunnyvale, CA</td>\n",
       "      <td>5.0</td>\n",
       "      <td>5.0</td>\n",
       "      <td>Distributed Systems (Back-End)</td>\n",
       "      <td>210000.0</td>\n",
       "      <td>...</td>\n",
       "      <td>1</td>\n",
       "      <td>0</td>\n",
       "      <td>0</td>\n",
       "      <td>1</td>\n",
       "      <td>0</td>\n",
       "      <td>0</td>\n",
       "      <td>0</td>\n",
       "      <td>0</td>\n",
       "      <td>Asian</td>\n",
       "      <td>PhD</td>\n",
       "    </tr>\n",
       "    <tr>\n",
       "      <th>16714</th>\n",
       "      <td>2/14/2020 21:22:30</td>\n",
       "      <td>Spotify</td>\n",
       "      <td>Senior Engineer</td>\n",
       "      <td>Software Engineer</td>\n",
       "      <td>210000</td>\n",
       "      <td>New York, NY</td>\n",
       "      <td>8.0</td>\n",
       "      <td>2.5</td>\n",
       "      <td>Full Stack</td>\n",
       "      <td>170000.0</td>\n",
       "      <td>...</td>\n",
       "      <td>0</td>\n",
       "      <td>0</td>\n",
       "      <td>0</td>\n",
       "      <td>1</td>\n",
       "      <td>0</td>\n",
       "      <td>0</td>\n",
       "      <td>0</td>\n",
       "      <td>0</td>\n",
       "      <td>Asian</td>\n",
       "      <td>NaN</td>\n",
       "    </tr>\n",
       "  </tbody>\n",
       "</table>\n",
       "<p>5 rows × 28 columns</p>\n",
       "</div>"
      ],
      "text/plain": [
       "                 timestamp  company                level  \\\n",
       "8366     7/2/2019 16:43:16    Intel              Grade 7   \n",
       "11997  10/13/2019 11:43:20    Latch              Manager   \n",
       "14429  12/30/2019 11:16:12   Intuit  Software Engineer 1   \n",
       "15710   1/27/2020 22:59:06   Google                   L6   \n",
       "16714   2/14/2020 21:22:30  Spotify      Senior Engineer   \n",
       "\n",
       "                              title  totalyearlycompensation  \\\n",
       "8366              Hardware Engineer                   200000   \n",
       "11997  Software Engineering Manager                   170000   \n",
       "14429             Software Engineer                   134000   \n",
       "15710             Software Engineer                   400000   \n",
       "16714             Software Engineer                   210000   \n",
       "\n",
       "                location  yearsofexperience  yearsatcompany  \\\n",
       "8366     Santa Clara, CA               14.0             3.0   \n",
       "11997       New York, NY                6.0             2.0   \n",
       "14429  Mountain View, CA                1.0             1.0   \n",
       "15710      Sunnyvale, CA                5.0             5.0   \n",
       "16714       New York, NY                8.0             2.5   \n",
       "\n",
       "                                  tag  basesalary  ...  Doctorate_Degree  \\\n",
       "8366                  Physical Design    163000.0  ...                 0   \n",
       "11997                      Full Stack    170000.0  ...                 0   \n",
       "14429     Web Development (Front-End)    110000.0  ...                 0   \n",
       "15710  Distributed Systems (Back-End)    210000.0  ...                 1   \n",
       "16714                      Full Stack    170000.0  ...                 0   \n",
       "\n",
       "       Highschool Some_College  Race_Asian  Race_White  Race_Two_Or_More  \\\n",
       "8366            0            0           1           0                 0   \n",
       "11997           0            0           1           0                 0   \n",
       "14429           0            0           1           0                 0   \n",
       "15710           0            0           1           0                 0   \n",
       "16714           0            0           1           0                 0   \n",
       "\n",
       "       Race_Black  Race_Hispanic   Race  Education  \n",
       "8366            0              0  Asian        NaN  \n",
       "11997           0              0  Asian        NaN  \n",
       "14429           0              0  Asian        NaN  \n",
       "15710           0              0  Asian        PhD  \n",
       "16714           0              0  Asian        NaN  \n",
       "\n",
       "[5 rows x 28 columns]"
      ]
     },
     "execution_count": 9,
     "metadata": {},
     "output_type": "execute_result"
    }
   ],
   "source": [
    "data[data['Race'] == 'Asian'].head(5)"
   ]
  },
  {
   "cell_type": "markdown",
   "id": "953783c7",
   "metadata": {
    "papermill": {
     "duration": 0.068845,
     "end_time": "2021-10-21T09:36:25.581980",
     "exception": false,
     "start_time": "2021-10-21T09:36:25.513135",
     "status": "completed"
    },
    "tags": []
   },
   "source": [
    "From this, we can already tell that the values are accounted for, as seen in Race_Asian and Race. Moreover, we can see that Doctorate_Degree reflects someone having a PhD. Therefore, we are able to remove the columns Race and Education, since these are already reflected in the encoded columns."
   ]
  },
  {
   "cell_type": "code",
   "execution_count": 10,
   "id": "e292a922",
   "metadata": {
    "execution": {
     "iopub.execute_input": "2021-10-21T09:36:25.723948Z",
     "iopub.status.busy": "2021-10-21T09:36:25.723323Z",
     "iopub.status.idle": "2021-10-21T09:36:25.729367Z",
     "shell.execute_reply": "2021-10-21T09:36:25.729951Z",
     "shell.execute_reply.started": "2021-10-21T09:13:02.570984Z"
    },
    "papermill": {
     "duration": 0.07853,
     "end_time": "2021-10-21T09:36:25.730126",
     "exception": false,
     "start_time": "2021-10-21T09:36:25.651596",
     "status": "completed"
    },
    "tags": []
   },
   "outputs": [],
   "source": [
    "del data['Race']\n",
    "del data['Education']"
   ]
  },
  {
   "cell_type": "markdown",
   "id": "7137adc0",
   "metadata": {
    "papermill": {
     "duration": 0.070306,
     "end_time": "2021-10-21T09:36:25.870336",
     "exception": false,
     "start_time": "2021-10-21T09:36:25.800030",
     "status": "completed"
    },
    "tags": []
   },
   "source": [
    "## Timestamp\n",
    "I have decided to not covert the timestamp column to a datetime format and instead deleted the column. Since our problem is a linear regression problem that is not involved with time series, it is safe to delete the column. Moreover, the data that will be trained on the model once deployed will be future data, and therefore the year of posting should not be considered. \n",
    "\n",
    "It could be argued that we do not consider other factors like inflation, rate of growth of salary, etc. but since we do not have data of the same job descriptions over the years, we cannot look at the trends over years to see if it has an influence over the total yearly compensation. "
   ]
  },
  {
   "cell_type": "code",
   "execution_count": 11,
   "id": "072b4ecc",
   "metadata": {
    "execution": {
     "iopub.execute_input": "2021-10-21T09:36:26.012909Z",
     "iopub.status.busy": "2021-10-21T09:36:26.012273Z",
     "iopub.status.idle": "2021-10-21T09:36:26.017038Z",
     "shell.execute_reply": "2021-10-21T09:36:26.017582Z",
     "shell.execute_reply.started": "2021-10-21T09:13:02.580062Z"
    },
    "papermill": {
     "duration": 0.077647,
     "end_time": "2021-10-21T09:36:26.017779",
     "exception": false,
     "start_time": "2021-10-21T09:36:25.940132",
     "status": "completed"
    },
    "tags": []
   },
   "outputs": [],
   "source": [
    "del data['timestamp']"
   ]
  },
  {
   "cell_type": "markdown",
   "id": "2d368c0c",
   "metadata": {
    "papermill": {
     "duration": 0.06989,
     "end_time": "2021-10-21T09:36:26.158400",
     "exception": false,
     "start_time": "2021-10-21T09:36:26.088510",
     "status": "completed"
    },
    "tags": []
   },
   "source": [
    "## Location\n",
    "The location can be feature engineered to give both the area and the country. \n",
    "\n",
    "The format for the location comes in a few different forms: \n",
    "\n",
    "1. Area, City, Country OR\n",
    "2. Area, City / Country\n",
    "\n",
    "This is obviously rather complicated on its own. However, there are other problems with the location itself such as the fact that the City might be abbreviated into 2 letters, and therefore there might be cities with the same abbreviations. Such an example can be seen below."
   ]
  },
  {
   "cell_type": "code",
   "execution_count": 12,
   "id": "309fcf85",
   "metadata": {
    "execution": {
     "iopub.execute_input": "2021-10-21T09:36:26.303549Z",
     "iopub.status.busy": "2021-10-21T09:36:26.300982Z",
     "iopub.status.idle": "2021-10-21T09:36:26.370886Z",
     "shell.execute_reply": "2021-10-21T09:36:26.371454Z",
     "shell.execute_reply.started": "2021-10-21T09:13:02.595692Z"
    },
    "papermill": {
     "duration": 0.143685,
     "end_time": "2021-10-21T09:36:26.371639",
     "exception": false,
     "start_time": "2021-10-21T09:36:26.227954",
     "status": "completed"
    },
    "tags": []
   },
   "outputs": [],
   "source": [
    "# Splitting the data to get the information\n",
    "data['area'] = data.location.apply(lambda x: x.split(',')[0])\n",
    "data['city'] = data.location.apply(lambda x: x.split(',')[1])\n",
    "data['country'] = data.location.apply(lambda x: x.split(',')[-1])"
   ]
  },
  {
   "cell_type": "code",
   "execution_count": 13,
   "id": "3dd84f70",
   "metadata": {
    "execution": {
     "iopub.execute_input": "2021-10-21T09:36:26.515042Z",
     "iopub.status.busy": "2021-10-21T09:36:26.514345Z",
     "iopub.status.idle": "2021-10-21T09:36:26.558845Z",
     "shell.execute_reply": "2021-10-21T09:36:26.559394Z",
     "shell.execute_reply.started": "2021-10-21T09:13:02.710840Z"
    },
    "papermill": {
     "duration": 0.117681,
     "end_time": "2021-10-21T09:36:26.559577",
     "exception": false,
     "start_time": "2021-10-21T09:36:26.441896",
     "status": "completed"
    },
    "tags": []
   },
   "outputs": [],
   "source": [
    "# Stripping the values of any white spaces\n",
    "data['area'] = data['area'].apply(lambda x: x.strip())\n",
    "data['city'] =  data['city'].apply(lambda x: x.strip())\n",
    "data['country'] = data['country'].apply(lambda x: x.strip())"
   ]
  },
  {
   "cell_type": "code",
   "execution_count": 14,
   "id": "baad70b3",
   "metadata": {
    "execution": {
     "iopub.execute_input": "2021-10-21T09:36:26.708385Z",
     "iopub.status.busy": "2021-10-21T09:36:26.707882Z",
     "iopub.status.idle": "2021-10-21T09:36:26.749741Z",
     "shell.execute_reply": "2021-10-21T09:36:26.749291Z",
     "shell.execute_reply.started": "2021-10-21T09:13:02.788287Z"
    },
    "papermill": {
     "duration": 0.119774,
     "end_time": "2021-10-21T09:36:26.749858",
     "exception": false,
     "start_time": "2021-10-21T09:36:26.630084",
     "status": "completed"
    },
    "tags": []
   },
   "outputs": [
    {
     "data": {
      "text/html": [
       "<div>\n",
       "<style scoped>\n",
       "    .dataframe tbody tr th:only-of-type {\n",
       "        vertical-align: middle;\n",
       "    }\n",
       "\n",
       "    .dataframe tbody tr th {\n",
       "        vertical-align: top;\n",
       "    }\n",
       "\n",
       "    .dataframe thead th {\n",
       "        text-align: right;\n",
       "    }\n",
       "</style>\n",
       "<table border=\"1\" class=\"dataframe\">\n",
       "  <thead>\n",
       "    <tr style=\"text-align: right;\">\n",
       "      <th></th>\n",
       "      <th>company</th>\n",
       "      <th>level</th>\n",
       "      <th>title</th>\n",
       "      <th>totalyearlycompensation</th>\n",
       "      <th>location</th>\n",
       "      <th>yearsofexperience</th>\n",
       "      <th>yearsatcompany</th>\n",
       "      <th>tag</th>\n",
       "      <th>basesalary</th>\n",
       "      <th>stockgrantvalue</th>\n",
       "      <th>...</th>\n",
       "      <th>Highschool</th>\n",
       "      <th>Some_College</th>\n",
       "      <th>Race_Asian</th>\n",
       "      <th>Race_White</th>\n",
       "      <th>Race_Two_Or_More</th>\n",
       "      <th>Race_Black</th>\n",
       "      <th>Race_Hispanic</th>\n",
       "      <th>area</th>\n",
       "      <th>city</th>\n",
       "      <th>country</th>\n",
       "    </tr>\n",
       "  </thead>\n",
       "  <tbody>\n",
       "    <tr>\n",
       "      <th>61227</th>\n",
       "      <td>Microsoft</td>\n",
       "      <td>63</td>\n",
       "      <td>Software Engineer</td>\n",
       "      <td>189000</td>\n",
       "      <td>Tel Aviv, TA, Israel</td>\n",
       "      <td>10.0</td>\n",
       "      <td>10.0</td>\n",
       "      <td>Full Stack</td>\n",
       "      <td>164000.0</td>\n",
       "      <td>10000.0</td>\n",
       "      <td>...</td>\n",
       "      <td>0</td>\n",
       "      <td>0</td>\n",
       "      <td>0</td>\n",
       "      <td>1</td>\n",
       "      <td>0</td>\n",
       "      <td>0</td>\n",
       "      <td>0</td>\n",
       "      <td>Tel Aviv</td>\n",
       "      <td>TA</td>\n",
       "      <td>Israel</td>\n",
       "    </tr>\n",
       "    <tr>\n",
       "      <th>61370</th>\n",
       "      <td>TSMC</td>\n",
       "      <td>33T</td>\n",
       "      <td>Hardware Engineer</td>\n",
       "      <td>97000</td>\n",
       "      <td>T'ai-chung, TA, Taiwan</td>\n",
       "      <td>7.0</td>\n",
       "      <td>7.0</td>\n",
       "      <td>Quality Assurance</td>\n",
       "      <td>40000.0</td>\n",
       "      <td>0.0</td>\n",
       "      <td>...</td>\n",
       "      <td>0</td>\n",
       "      <td>0</td>\n",
       "      <td>1</td>\n",
       "      <td>0</td>\n",
       "      <td>0</td>\n",
       "      <td>0</td>\n",
       "      <td>0</td>\n",
       "      <td>T'ai-chung</td>\n",
       "      <td>TA</td>\n",
       "      <td>Taiwan</td>\n",
       "    </tr>\n",
       "    <tr>\n",
       "      <th>61481</th>\n",
       "      <td>TSMC</td>\n",
       "      <td>33T</td>\n",
       "      <td>Hardware Engineer</td>\n",
       "      <td>90000</td>\n",
       "      <td>T'ai-chung, TA, Taiwan</td>\n",
       "      <td>14.0</td>\n",
       "      <td>8.0</td>\n",
       "      <td>Semiconductor</td>\n",
       "      <td>50000.0</td>\n",
       "      <td>0.0</td>\n",
       "      <td>...</td>\n",
       "      <td>0</td>\n",
       "      <td>0</td>\n",
       "      <td>1</td>\n",
       "      <td>0</td>\n",
       "      <td>0</td>\n",
       "      <td>0</td>\n",
       "      <td>0</td>\n",
       "      <td>T'ai-chung</td>\n",
       "      <td>TA</td>\n",
       "      <td>Taiwan</td>\n",
       "    </tr>\n",
       "    <tr>\n",
       "      <th>61642</th>\n",
       "      <td>Facebook</td>\n",
       "      <td>IC4</td>\n",
       "      <td>Data Scientist</td>\n",
       "      <td>185000</td>\n",
       "      <td>Tel Aviv, TA, Israel</td>\n",
       "      <td>5.0</td>\n",
       "      <td>1.0</td>\n",
       "      <td>Data Engineer</td>\n",
       "      <td>133000.0</td>\n",
       "      <td>34000.0</td>\n",
       "      <td>...</td>\n",
       "      <td>0</td>\n",
       "      <td>0</td>\n",
       "      <td>0</td>\n",
       "      <td>1</td>\n",
       "      <td>0</td>\n",
       "      <td>0</td>\n",
       "      <td>0</td>\n",
       "      <td>Tel Aviv</td>\n",
       "      <td>TA</td>\n",
       "      <td>Israel</td>\n",
       "    </tr>\n",
       "    <tr>\n",
       "      <th>62607</th>\n",
       "      <td>Microsoft</td>\n",
       "      <td>64</td>\n",
       "      <td>Software Engineer</td>\n",
       "      <td>194000</td>\n",
       "      <td>Tel Aviv, TA, Israel</td>\n",
       "      <td>13.0</td>\n",
       "      <td>6.0</td>\n",
       "      <td>Full Stack</td>\n",
       "      <td>140000.0</td>\n",
       "      <td>29000.0</td>\n",
       "      <td>...</td>\n",
       "      <td>0</td>\n",
       "      <td>0</td>\n",
       "      <td>0</td>\n",
       "      <td>0</td>\n",
       "      <td>0</td>\n",
       "      <td>0</td>\n",
       "      <td>0</td>\n",
       "      <td>Tel Aviv</td>\n",
       "      <td>TA</td>\n",
       "      <td>Israel</td>\n",
       "    </tr>\n",
       "  </tbody>\n",
       "</table>\n",
       "<p>5 rows × 28 columns</p>\n",
       "</div>"
      ],
      "text/plain": [
       "         company level              title  totalyearlycompensation  \\\n",
       "61227  Microsoft    63  Software Engineer                   189000   \n",
       "61370       TSMC   33T  Hardware Engineer                    97000   \n",
       "61481       TSMC   33T  Hardware Engineer                    90000   \n",
       "61642   Facebook   IC4     Data Scientist                   185000   \n",
       "62607  Microsoft    64  Software Engineer                   194000   \n",
       "\n",
       "                     location  yearsofexperience  yearsatcompany  \\\n",
       "61227    Tel Aviv, TA, Israel               10.0            10.0   \n",
       "61370  T'ai-chung, TA, Taiwan                7.0             7.0   \n",
       "61481  T'ai-chung, TA, Taiwan               14.0             8.0   \n",
       "61642    Tel Aviv, TA, Israel                5.0             1.0   \n",
       "62607    Tel Aviv, TA, Israel               13.0             6.0   \n",
       "\n",
       "                     tag  basesalary  stockgrantvalue  ...  Highschool  \\\n",
       "61227         Full Stack    164000.0          10000.0  ...           0   \n",
       "61370  Quality Assurance     40000.0              0.0  ...           0   \n",
       "61481      Semiconductor     50000.0              0.0  ...           0   \n",
       "61642      Data Engineer    133000.0          34000.0  ...           0   \n",
       "62607         Full Stack    140000.0          29000.0  ...           0   \n",
       "\n",
       "      Some_College  Race_Asian  Race_White  Race_Two_Or_More  Race_Black  \\\n",
       "61227            0           0           1                 0           0   \n",
       "61370            0           1           0                 0           0   \n",
       "61481            0           1           0                 0           0   \n",
       "61642            0           0           1                 0           0   \n",
       "62607            0           0           0                 0           0   \n",
       "\n",
       "       Race_Hispanic        area  city  country  \n",
       "61227              0    Tel Aviv    TA   Israel  \n",
       "61370              0  T'ai-chung    TA   Taiwan  \n",
       "61481              0  T'ai-chung    TA   Taiwan  \n",
       "61642              0    Tel Aviv    TA   Israel  \n",
       "62607              0    Tel Aviv    TA   Israel  \n",
       "\n",
       "[5 rows x 28 columns]"
      ]
     },
     "execution_count": 14,
     "metadata": {},
     "output_type": "execute_result"
    }
   ],
   "source": [
    "data[data['city'] == 'TA'].tail(5)"
   ]
  },
  {
   "cell_type": "markdown",
   "id": "7ebf9a3a",
   "metadata": {
    "papermill": {
     "duration": 0.045283,
     "end_time": "2021-10-21T09:36:26.841714",
     "exception": false,
     "start_time": "2021-10-21T09:36:26.796431",
     "status": "completed"
    },
    "tags": []
   },
   "source": [
    "Here, we can tell that there are two clashing areas with the same location, T-ai-chung and Tel Aviv. Therefore, it would be a problem to use the city itself, therefore let us use the area and country instead. \n",
    "\n",
    "We will also be clearing the cityid, even though it gives us the location. This is because we already have the area and the country of these places!"
   ]
  },
  {
   "cell_type": "code",
   "execution_count": 15,
   "id": "d05825c6",
   "metadata": {
    "execution": {
     "iopub.execute_input": "2021-10-21T09:36:26.939260Z",
     "iopub.status.busy": "2021-10-21T09:36:26.938575Z",
     "iopub.status.idle": "2021-10-21T09:36:26.943262Z",
     "shell.execute_reply": "2021-10-21T09:36:26.943715Z",
     "shell.execute_reply.started": "2021-10-21T09:13:02.845809Z"
    },
    "papermill": {
     "duration": 0.056204,
     "end_time": "2021-10-21T09:36:26.943896",
     "exception": false,
     "start_time": "2021-10-21T09:36:26.887692",
     "status": "completed"
    },
    "tags": []
   },
   "outputs": [],
   "source": [
    "del data['city']\n",
    "del data['location']\n",
    "del data['cityid']"
   ]
  },
  {
   "cell_type": "code",
   "execution_count": 16,
   "id": "1f92467f",
   "metadata": {
    "execution": {
     "iopub.execute_input": "2021-10-21T09:36:27.044841Z",
     "iopub.status.busy": "2021-10-21T09:36:27.044255Z",
     "iopub.status.idle": "2021-10-21T09:36:27.048357Z",
     "shell.execute_reply": "2021-10-21T09:36:27.047844Z",
     "shell.execute_reply.started": "2021-10-21T09:13:02.854055Z"
    },
    "papermill": {
     "duration": 0.055164,
     "end_time": "2021-10-21T09:36:27.048481",
     "exception": false,
     "start_time": "2021-10-21T09:36:26.993317",
     "status": "completed"
    },
    "tags": []
   },
   "outputs": [],
   "source": [
    "# We define the function united_states so that we can catch cases with Area, City. e.g. Cupertino, CA \n",
    "def united_states(value):\n",
    "    if len(value) != 2:\n",
    "        return value\n",
    "    else:\n",
    "        return 'United States'"
   ]
  },
  {
   "cell_type": "code",
   "execution_count": 17,
   "id": "2a0c706a",
   "metadata": {
    "execution": {
     "iopub.execute_input": "2021-10-21T09:36:27.146871Z",
     "iopub.status.busy": "2021-10-21T09:36:27.146349Z",
     "iopub.status.idle": "2021-10-21T09:36:27.184783Z",
     "shell.execute_reply": "2021-10-21T09:36:27.185186Z",
     "shell.execute_reply.started": "2021-10-21T09:13:02.864635Z"
    },
    "papermill": {
     "duration": 0.090151,
     "end_time": "2021-10-21T09:36:27.185331",
     "exception": false,
     "start_time": "2021-10-21T09:36:27.095180",
     "status": "completed"
    },
    "tags": []
   },
   "outputs": [],
   "source": [
    "data['country'] = data.country.apply(lambda x: united_states(x))"
   ]
  },
  {
   "cell_type": "code",
   "execution_count": 18,
   "id": "e7291705",
   "metadata": {
    "execution": {
     "iopub.execute_input": "2021-10-21T09:36:27.280116Z",
     "iopub.status.busy": "2021-10-21T09:36:27.279583Z",
     "iopub.status.idle": "2021-10-21T09:36:27.292219Z",
     "shell.execute_reply": "2021-10-21T09:36:27.292628Z",
     "shell.execute_reply.started": "2021-10-21T09:13:02.905344Z"
    },
    "papermill": {
     "duration": 0.06186,
     "end_time": "2021-10-21T09:36:27.292794",
     "exception": false,
     "start_time": "2021-10-21T09:36:27.230934",
     "status": "completed"
    },
    "tags": []
   },
   "outputs": [
    {
     "data": {
      "text/plain": [
       "0"
      ]
     },
     "execution_count": 18,
     "metadata": {},
     "output_type": "execute_result"
    }
   ],
   "source": [
    "data.country.isna().sum()"
   ]
  },
  {
   "cell_type": "code",
   "execution_count": 19,
   "id": "b08543b9",
   "metadata": {
    "execution": {
     "iopub.execute_input": "2021-10-21T09:36:27.388863Z",
     "iopub.status.busy": "2021-10-21T09:36:27.388207Z",
     "iopub.status.idle": "2021-10-21T09:36:27.400984Z",
     "shell.execute_reply": "2021-10-21T09:36:27.400525Z",
     "shell.execute_reply.started": "2021-10-21T09:13:02.920775Z"
    },
    "papermill": {
     "duration": 0.061561,
     "end_time": "2021-10-21T09:36:27.401102",
     "exception": false,
     "start_time": "2021-10-21T09:36:27.339541",
     "status": "completed"
    },
    "tags": []
   },
   "outputs": [
    {
     "data": {
      "text/plain": [
       "0"
      ]
     },
     "execution_count": 19,
     "metadata": {},
     "output_type": "execute_result"
    }
   ],
   "source": [
    "data.area.isna().sum()"
   ]
  },
  {
   "cell_type": "markdown",
   "id": "96eee282",
   "metadata": {
    "papermill": {
     "duration": 0.045943,
     "end_time": "2021-10-21T09:36:27.493447",
     "exception": false,
     "start_time": "2021-10-21T09:36:27.447504",
     "status": "completed"
    },
    "tags": []
   },
   "source": [
    "## Gender\n",
    "If we recall in the number of missing values, here is a significant number of missing values in \"Gender\", however we can take that as 'Unknown' since they probably did not want to divulge their gender.\n",
    "\n",
    "There is 1 datapoint that we will have manually change to 'Unknown', since its gender is... Title: Senior Software Engineer? I find that very, very unlikely. XD"
   ]
  },
  {
   "cell_type": "code",
   "execution_count": 20,
   "id": "a5d4ac5b",
   "metadata": {
    "execution": {
     "iopub.execute_input": "2021-10-21T09:36:27.588959Z",
     "iopub.status.busy": "2021-10-21T09:36:27.588442Z",
     "iopub.status.idle": "2021-10-21T09:36:27.596663Z",
     "shell.execute_reply": "2021-10-21T09:36:27.596218Z",
     "shell.execute_reply.started": "2021-10-21T09:13:02.941368Z"
    },
    "papermill": {
     "duration": 0.057166,
     "end_time": "2021-10-21T09:36:27.596770",
     "exception": false,
     "start_time": "2021-10-21T09:36:27.539604",
     "status": "completed"
    },
    "tags": []
   },
   "outputs": [
    {
     "data": {
      "text/plain": [
       "array([nan, 'Male', 'Female', 'Other', 'Title: Senior Software Engineer'],\n",
       "      dtype=object)"
      ]
     },
     "execution_count": 20,
     "metadata": {},
     "output_type": "execute_result"
    }
   ],
   "source": [
    "data.gender.unique()"
   ]
  },
  {
   "cell_type": "code",
   "execution_count": 21,
   "id": "5033ed02",
   "metadata": {
    "execution": {
     "iopub.execute_input": "2021-10-21T09:36:27.699848Z",
     "iopub.status.busy": "2021-10-21T09:36:27.699306Z",
     "iopub.status.idle": "2021-10-21T09:36:27.704416Z",
     "shell.execute_reply": "2021-10-21T09:36:27.704880Z",
     "shell.execute_reply.started": "2021-10-21T09:13:02.959183Z"
    },
    "papermill": {
     "duration": 0.061502,
     "end_time": "2021-10-21T09:36:27.705213",
     "exception": false,
     "start_time": "2021-10-21T09:36:27.643711",
     "status": "completed"
    },
    "tags": []
   },
   "outputs": [],
   "source": [
    "data['gender'] = data['gender'].fillna('Unknown')\n",
    "data['gender'].iloc[11010] = 'Unknown'"
   ]
  },
  {
   "cell_type": "markdown",
   "id": "e4dec089",
   "metadata": {
    "papermill": {
     "duration": 0.04463,
     "end_time": "2021-10-21T09:36:27.797398",
     "exception": false,
     "start_time": "2021-10-21T09:36:27.752768",
     "status": "completed"
    },
    "tags": []
   },
   "source": [
    "## Levels \n",
    "\n",
    "This was a column that I took some time to figure out, and I was trying to be ambitious by matching each company's levels to one uniform set of values. However, let's look at how many unique levels there are, as well as the different levels. "
   ]
  },
  {
   "cell_type": "code",
   "execution_count": 22,
   "id": "c5b82b78",
   "metadata": {
    "execution": {
     "iopub.execute_input": "2021-10-21T09:36:27.888281Z",
     "iopub.status.busy": "2021-10-21T09:36:27.887843Z",
     "iopub.status.idle": "2021-10-21T09:36:27.895068Z",
     "shell.execute_reply": "2021-10-21T09:36:27.895547Z",
     "shell.execute_reply.started": "2021-10-21T09:13:02.980116Z"
    },
    "papermill": {
     "duration": 0.054711,
     "end_time": "2021-10-21T09:36:27.895711",
     "exception": false,
     "start_time": "2021-10-21T09:36:27.841000",
     "status": "completed"
    },
    "tags": []
   },
   "outputs": [
    {
     "data": {
      "text/plain": [
       "2923"
      ]
     },
     "execution_count": 22,
     "metadata": {},
     "output_type": "execute_result"
    }
   ],
   "source": [
    "data.level.nunique()"
   ]
  },
  {
   "cell_type": "code",
   "execution_count": 23,
   "id": "1b7f5fec",
   "metadata": {
    "execution": {
     "iopub.execute_input": "2021-10-21T09:36:27.991580Z",
     "iopub.status.busy": "2021-10-21T09:36:27.991143Z",
     "iopub.status.idle": "2021-10-21T09:36:28.001706Z",
     "shell.execute_reply": "2021-10-21T09:36:28.002162Z",
     "shell.execute_reply.started": "2021-10-21T09:13:02.998758Z"
    },
    "papermill": {
     "duration": 0.059882,
     "end_time": "2021-10-21T09:36:28.002320",
     "exception": false,
     "start_time": "2021-10-21T09:36:27.942438",
     "status": "completed"
    },
    "tags": []
   },
   "outputs": [
    {
     "data": {
      "text/plain": [
       "L4                          5014\n",
       "L5                          4871\n",
       "L3                          3337\n",
       "L6                          2871\n",
       "Senior Software Engineer    1443\n",
       "L2                          1163\n",
       "Senior                      1079\n",
       "L7                           919\n",
       "L1                           765\n",
       "62                           764\n",
       "63                           752\n",
       "E5                           744\n",
       "ICT4                         736\n",
       "Software Engineer            735\n",
       "61                           723\n",
       "IC3                          656\n",
       "IC4                          649\n",
       "E4                           624\n",
       "ICT3                         620\n",
       "60                           610\n",
       "64                           604\n",
       "SDE II                       569\n",
       "59                           554\n",
       "Associate                    553\n",
       "IC5                          481\n",
       "Name: level, dtype: int64"
      ]
     },
     "execution_count": 23,
     "metadata": {},
     "output_type": "execute_result"
    }
   ],
   "source": [
    "data.level.value_counts().head(25)"
   ]
  },
  {
   "cell_type": "markdown",
   "id": "0d8e382e",
   "metadata": {
    "papermill": {
     "duration": 0.046828,
     "end_time": "2021-10-21T09:36:28.097302",
     "exception": false,
     "start_time": "2021-10-21T09:36:28.050474",
     "status": "completed"
    },
    "tags": []
   },
   "source": [
    "Yikes. Looking at how variable the values can get, it is nearly impossible to consolidate everything into consistent values. Therefore, I have decided to not use this column instead. The years of experience as well as the years in the company would probably be a good representation of the level instead."
   ]
  },
  {
   "cell_type": "code",
   "execution_count": 24,
   "id": "4c3be927",
   "metadata": {
    "execution": {
     "iopub.execute_input": "2021-10-21T09:36:28.196704Z",
     "iopub.status.busy": "2021-10-21T09:36:28.196174Z",
     "iopub.status.idle": "2021-10-21T09:36:28.199517Z",
     "shell.execute_reply": "2021-10-21T09:36:28.199970Z",
     "shell.execute_reply.started": "2021-10-21T09:13:03.021499Z"
    },
    "papermill": {
     "duration": 0.055008,
     "end_time": "2021-10-21T09:36:28.200114",
     "exception": false,
     "start_time": "2021-10-21T09:36:28.145106",
     "status": "completed"
    },
    "tags": []
   },
   "outputs": [],
   "source": [
    "del data['level']"
   ]
  },
  {
   "cell_type": "markdown",
   "id": "4b31589b",
   "metadata": {
    "papermill": {
     "duration": 0.047503,
     "end_time": "2021-10-21T09:36:28.295785",
     "exception": false,
     "start_time": "2021-10-21T09:36:28.248282",
     "status": "completed"
    },
    "tags": []
   },
   "source": [
    "## Company \n",
    "\n",
    "There are a lot of companies in this dataset - slightly over 1500 companies. When we encode this, this will definitely be a problem as it will create too many variables.\n",
    "\n",
    "Instead, I will be doing some form of encoding for the companies itself. It is a rather well-known and rather arguable statement that FAANG companies pay more than non-FAANG companies. Therefore, I am changing the company column to \"is_faang\" instead by applying a function called faang_classifier onto the column itself."
   ]
  },
  {
   "cell_type": "code",
   "execution_count": 25,
   "id": "c28676f3",
   "metadata": {
    "execution": {
     "iopub.execute_input": "2021-10-21T09:36:28.395587Z",
     "iopub.status.busy": "2021-10-21T09:36:28.395101Z",
     "iopub.status.idle": "2021-10-21T09:36:28.403705Z",
     "shell.execute_reply": "2021-10-21T09:36:28.404127Z",
     "shell.execute_reply.started": "2021-10-21T09:13:03.028711Z"
    },
    "papermill": {
     "duration": 0.05991,
     "end_time": "2021-10-21T09:36:28.404273",
     "exception": false,
     "start_time": "2021-10-21T09:36:28.344363",
     "status": "completed"
    },
    "tags": []
   },
   "outputs": [
    {
     "data": {
      "text/plain": [
       "1631"
      ]
     },
     "execution_count": 25,
     "metadata": {},
     "output_type": "execute_result"
    }
   ],
   "source": [
    "data.company.nunique()"
   ]
  },
  {
   "cell_type": "code",
   "execution_count": 26,
   "id": "21e1f2fa",
   "metadata": {
    "execution": {
     "iopub.execute_input": "2021-10-21T09:36:28.502510Z",
     "iopub.status.busy": "2021-10-21T09:36:28.502041Z",
     "iopub.status.idle": "2021-10-21T09:36:28.506413Z",
     "shell.execute_reply": "2021-10-21T09:36:28.506823Z",
     "shell.execute_reply.started": "2021-10-21T09:13:03.049853Z"
    },
    "papermill": {
     "duration": 0.054869,
     "end_time": "2021-10-21T09:36:28.506968",
     "exception": false,
     "start_time": "2021-10-21T09:36:28.452099",
     "status": "completed"
    },
    "tags": []
   },
   "outputs": [],
   "source": [
    "def faang_classifier(company):\n",
    "    faang = ['Facebook', 'Amazon', 'Apple', 'Netflix', 'Google']\n",
    "    if company in faang:\n",
    "        return 1 \n",
    "    else:\n",
    "        return 0"
   ]
  },
  {
   "cell_type": "code",
   "execution_count": 27,
   "id": "3a740226",
   "metadata": {
    "execution": {
     "iopub.execute_input": "2021-10-21T09:36:28.604698Z",
     "iopub.status.busy": "2021-10-21T09:36:28.604190Z",
     "iopub.status.idle": "2021-10-21T09:36:28.642264Z",
     "shell.execute_reply": "2021-10-21T09:36:28.642673Z",
     "shell.execute_reply.started": "2021-10-21T09:13:03.056198Z"
    },
    "papermill": {
     "duration": 0.088246,
     "end_time": "2021-10-21T09:36:28.642811",
     "exception": false,
     "start_time": "2021-10-21T09:36:28.554565",
     "status": "completed"
    },
    "tags": []
   },
   "outputs": [],
   "source": [
    "data['is_faang'] = data['company'].apply(lambda x: faang_classifier(x))\n",
    "data['is_faang'] = data['is_faang'].fillna(0)"
   ]
  },
  {
   "cell_type": "code",
   "execution_count": 28,
   "id": "fa532142",
   "metadata": {
    "execution": {
     "iopub.execute_input": "2021-10-21T09:36:28.741866Z",
     "iopub.status.busy": "2021-10-21T09:36:28.741334Z",
     "iopub.status.idle": "2021-10-21T09:36:28.742364Z",
     "shell.execute_reply": "2021-10-21T09:36:28.742760Z",
     "shell.execute_reply.started": "2021-10-21T09:13:03.124722Z"
    },
    "papermill": {
     "duration": 0.052728,
     "end_time": "2021-10-21T09:36:28.742903",
     "exception": false,
     "start_time": "2021-10-21T09:36:28.690175",
     "status": "completed"
    },
    "tags": []
   },
   "outputs": [],
   "source": [
    "del data['company']"
   ]
  },
  {
   "cell_type": "markdown",
   "id": "4916f2bf",
   "metadata": {
    "papermill": {
     "duration": 0.047694,
     "end_time": "2021-10-21T09:36:28.839876",
     "exception": false,
     "start_time": "2021-10-21T09:36:28.792182",
     "status": "completed"
    },
    "tags": []
   },
   "source": [
    "## Tag\n",
    "\n",
    "The tag does tell us very useful things like being a backend engineer, frontend engineer, etc. However, on further inspection, it would seem like there are too many tags to consider in the 'tag' column. \n",
    "This could be replaced by the \"title\" column instead, so therefore we will be deleting the 'tag' column."
   ]
  },
  {
   "cell_type": "code",
   "execution_count": 29,
   "id": "7c6068c3",
   "metadata": {
    "execution": {
     "iopub.execute_input": "2021-10-21T09:36:28.937511Z",
     "iopub.status.busy": "2021-10-21T09:36:28.937051Z",
     "iopub.status.idle": "2021-10-21T09:36:28.939870Z",
     "shell.execute_reply": "2021-10-21T09:36:28.940350Z",
     "shell.execute_reply.started": "2021-10-21T09:13:03.130260Z"
    },
    "papermill": {
     "duration": 0.052982,
     "end_time": "2021-10-21T09:36:28.940478",
     "exception": false,
     "start_time": "2021-10-21T09:36:28.887496",
     "status": "completed"
    },
    "tags": []
   },
   "outputs": [],
   "source": [
    "del data['tag']"
   ]
  },
  {
   "cell_type": "markdown",
   "id": "620c1a6c",
   "metadata": {
    "papermill": {
     "duration": 0.047618,
     "end_time": "2021-10-21T09:36:29.035532",
     "exception": false,
     "start_time": "2021-10-21T09:36:28.987914",
     "status": "completed"
    },
    "tags": []
   },
   "source": [
    "## Dmaid\n",
    "\n",
    "I honestly have no idea what this is, therefore let's use a staistical approach to see how we can fill in some missing columns here."
   ]
  },
  {
   "cell_type": "code",
   "execution_count": 30,
   "id": "1260b04a",
   "metadata": {
    "execution": {
     "iopub.execute_input": "2021-10-21T09:36:29.134063Z",
     "iopub.status.busy": "2021-10-21T09:36:29.133505Z",
     "iopub.status.idle": "2021-10-21T09:36:30.062742Z",
     "shell.execute_reply": "2021-10-21T09:36:30.062281Z",
     "shell.execute_reply.started": "2021-10-21T09:13:03.142001Z"
    },
    "papermill": {
     "duration": 0.97966,
     "end_time": "2021-10-21T09:36:30.062858",
     "exception": false,
     "start_time": "2021-10-21T09:36:29.083198",
     "status": "completed"
    },
    "tags": []
   },
   "outputs": [],
   "source": [
    "import matplotlib.pyplot as plt\n",
    "import seaborn as sns "
   ]
  },
  {
   "cell_type": "code",
   "execution_count": 31,
   "id": "af8a0caf",
   "metadata": {
    "execution": {
     "iopub.execute_input": "2021-10-21T09:36:30.164335Z",
     "iopub.status.busy": "2021-10-21T09:36:30.163620Z",
     "iopub.status.idle": "2021-10-21T09:36:30.583898Z",
     "shell.execute_reply": "2021-10-21T09:36:30.583283Z",
     "shell.execute_reply.started": "2021-10-21T09:13:04.058062Z"
    },
    "papermill": {
     "duration": 0.47338,
     "end_time": "2021-10-21T09:36:30.584061",
     "exception": false,
     "start_time": "2021-10-21T09:36:30.110681",
     "status": "completed"
    },
    "tags": []
   },
   "outputs": [
    {
     "data": {
      "text/plain": [
       "<AxesSubplot:xlabel='dmaid', ylabel='Count'>"
      ]
     },
     "execution_count": 31,
     "metadata": {},
     "output_type": "execute_result"
    },
    {
     "data": {
      "image/png": "[encoded data removed]",
      "text/plain": [
       "<Figure size 864x576 with 1 Axes>"
      ]
     },
     "metadata": {
      "needs_background": "light"
     },
     "output_type": "display_data"
    }
   ],
   "source": [
    "plt.figure(figsize=(12,8))\n",
    "sns.histplot(x='dmaid', data=data)"
   ]
  },
  {
   "cell_type": "markdown",
   "id": "d14cdfd7",
   "metadata": {
    "papermill": {
     "duration": 0.07424,
     "end_time": "2021-10-21T09:36:30.732352",
     "exception": false,
     "start_time": "2021-10-21T09:36:30.658112",
     "status": "completed"
    },
    "tags": []
   },
   "source": [
    "We can tell that this is not normally distributed, and therefore a good way to fill in the dmaid values is to use the median to fill up the missing values."
   ]
  },
  {
   "cell_type": "code",
   "execution_count": 32,
   "id": "5b61c6c3",
   "metadata": {
    "execution": {
     "iopub.execute_input": "2021-10-21T09:36:30.887897Z",
     "iopub.status.busy": "2021-10-21T09:36:30.887124Z",
     "iopub.status.idle": "2021-10-21T09:36:30.890751Z",
     "shell.execute_reply": "2021-10-21T09:36:30.891230Z",
     "shell.execute_reply.started": "2021-10-21T09:13:04.530017Z"
    },
    "papermill": {
     "duration": 0.083067,
     "end_time": "2021-10-21T09:36:30.891405",
     "exception": false,
     "start_time": "2021-10-21T09:36:30.808338",
     "status": "completed"
    },
    "tags": []
   },
   "outputs": [],
   "source": [
    "data['dmaid'] = data.dmaid.fillna(data.dmaid.median())"
   ]
  },
  {
   "cell_type": "markdown",
   "id": "e7c0e0d6",
   "metadata": {
    "papermill": {
     "duration": 0.074478,
     "end_time": "2021-10-21T09:36:31.041105",
     "exception": false,
     "start_time": "2021-10-21T09:36:30.966627",
     "status": "completed"
    },
    "tags": []
   },
   "source": [
    "## Base Salary, Stock Grant Value, Bonus\n",
    "\n",
    "These factors are basically a cheat of finding the prices, and therefore I will not involve these into our predictions. "
   ]
  },
  {
   "cell_type": "code",
   "execution_count": 33,
   "id": "3726021f",
   "metadata": {
    "execution": {
     "iopub.execute_input": "2021-10-21T09:36:31.194672Z",
     "iopub.status.busy": "2021-10-21T09:36:31.193787Z",
     "iopub.status.idle": "2021-10-21T09:36:31.198459Z",
     "shell.execute_reply": "2021-10-21T09:36:31.198987Z",
     "shell.execute_reply.started": "2021-10-21T09:13:04.538653Z"
    },
    "papermill": {
     "duration": 0.082467,
     "end_time": "2021-10-21T09:36:31.199172",
     "exception": false,
     "start_time": "2021-10-21T09:36:31.116705",
     "status": "completed"
    },
    "tags": []
   },
   "outputs": [],
   "source": [
    "for x in ['basesalary', 'stockgrantvalue', 'bonus']:\n",
    "    del data[x]"
   ]
  },
  {
   "cell_type": "markdown",
   "id": "6d0aa530",
   "metadata": {
    "papermill": {
     "duration": 0.074494,
     "end_time": "2021-10-21T09:36:31.348558",
     "exception": false,
     "start_time": "2021-10-21T09:36:31.274064",
     "status": "completed"
    },
    "tags": []
   },
   "source": [
    "## Total Yearly Compensation\n",
    "This is our target variable. Let's take a look at the visualisation for this. "
   ]
  },
  {
   "cell_type": "code",
   "execution_count": 34,
   "id": "49506986",
   "metadata": {
    "execution": {
     "iopub.execute_input": "2021-10-21T09:36:31.501616Z",
     "iopub.status.busy": "2021-10-21T09:36:31.500812Z",
     "iopub.status.idle": "2021-10-21T09:36:33.111629Z",
     "shell.execute_reply": "2021-10-21T09:36:33.112044Z",
     "shell.execute_reply.started": "2021-10-21T09:13:04.549213Z"
    },
    "papermill": {
     "duration": 1.688641,
     "end_time": "2021-10-21T09:36:33.112184",
     "exception": false,
     "start_time": "2021-10-21T09:36:31.423543",
     "status": "completed"
    },
    "tags": []
   },
   "outputs": [
    {
     "data": {
      "text/plain": [
       "<AxesSubplot:xlabel='totalyearlycompensation', ylabel='Count'>"
      ]
     },
     "execution_count": 34,
     "metadata": {},
     "output_type": "execute_result"
    },
    {
     "data": {
      "image/png": "[encoded data removed]",
      "text/plain": [
       "<Figure size 864x576 with 1 Axes>"
      ]
     },
     "metadata": {
      "needs_background": "light"
     },
     "output_type": "display_data"
    }
   ],
   "source": [
    "plt.figure(figsize=(12,8))\n",
    "sns.histplot(x='totalyearlycompensation', data = data)"
   ]
  },
  {
   "cell_type": "markdown",
   "id": "2c91465c",
   "metadata": {
    "papermill": {
     "duration": 0.049717,
     "end_time": "2021-10-21T09:36:33.212558",
     "exception": false,
     "start_time": "2021-10-21T09:36:33.162841",
     "status": "completed"
    },
    "tags": []
   },
   "source": [
    "We can tell that there is a very long tail for total yearly compensation, therefore let's use np.log1p to shorten the tail."
   ]
  },
  {
   "cell_type": "code",
   "execution_count": 35,
   "id": "60edf082",
   "metadata": {
    "execution": {
     "iopub.execute_input": "2021-10-21T09:36:33.316918Z",
     "iopub.status.busy": "2021-10-21T09:36:33.316242Z",
     "iopub.status.idle": "2021-10-21T09:36:33.324570Z",
     "shell.execute_reply": "2021-10-21T09:36:33.325008Z",
     "shell.execute_reply.started": "2021-10-21T09:13:06.318779Z"
    },
    "papermill": {
     "duration": 0.061805,
     "end_time": "2021-10-21T09:36:33.325161",
     "exception": false,
     "start_time": "2021-10-21T09:36:33.263356",
     "status": "completed"
    },
    "tags": []
   },
   "outputs": [],
   "source": [
    "data['totalyearlycompensation'] = np.log1p(data['totalyearlycompensation'])"
   ]
  },
  {
   "cell_type": "code",
   "execution_count": 36,
   "id": "1a923eb1",
   "metadata": {
    "execution": {
     "iopub.execute_input": "2021-10-21T09:36:33.429580Z",
     "iopub.status.busy": "2021-10-21T09:36:33.428303Z",
     "iopub.status.idle": "2021-10-21T09:36:34.029052Z",
     "shell.execute_reply": "2021-10-21T09:36:34.029531Z",
     "shell.execute_reply.started": "2021-10-21T09:13:06.326689Z"
    },
    "papermill": {
     "duration": 0.654524,
     "end_time": "2021-10-21T09:36:34.029714",
     "exception": false,
     "start_time": "2021-10-21T09:36:33.375190",
     "status": "completed"
    },
    "tags": []
   },
   "outputs": [
    {
     "data": {
      "text/plain": [
       "<AxesSubplot:xlabel='totalyearlycompensation', ylabel='Count'>"
      ]
     },
     "execution_count": 36,
     "metadata": {},
     "output_type": "execute_result"
    },
    {
     "data": {
      "image/png": "[encoded data removed]",
      "text/plain": [
       "<Figure size 864x576 with 1 Axes>"
      ]
     },
     "metadata": {
      "needs_background": "light"
     },
     "output_type": "display_data"
    }
   ],
   "source": [
    "plt.figure(figsize=(12,8))\n",
    "sns.histplot(x='totalyearlycompensation', data = data)"
   ]
  },
  {
   "cell_type": "markdown",
   "id": "6568ef1f",
   "metadata": {
    "papermill": {
     "duration": 0.051546,
     "end_time": "2021-10-21T09:36:34.133827",
     "exception": false,
     "start_time": "2021-10-21T09:36:34.082281",
     "status": "completed"
    },
    "tags": []
   },
   "source": [
    "Great! It even looks like a normal distribution - wonderful :) "
   ]
  },
  {
   "cell_type": "markdown",
   "id": "71946bbf",
   "metadata": {
    "papermill": {
     "duration": 0.066402,
     "end_time": "2021-10-21T09:36:34.251690",
     "exception": false,
     "start_time": "2021-10-21T09:36:34.185288",
     "status": "completed"
    },
    "tags": []
   },
   "source": [
    "## rowNumber\n",
    "\n",
    "That's just an index. It's not important."
   ]
  },
  {
   "cell_type": "code",
   "execution_count": 37,
   "id": "804261ec",
   "metadata": {
    "execution": {
     "iopub.execute_input": "2021-10-21T09:36:34.361860Z",
     "iopub.status.busy": "2021-10-21T09:36:34.361184Z",
     "iopub.status.idle": "2021-10-21T09:36:34.366113Z",
     "shell.execute_reply": "2021-10-21T09:36:34.366905Z",
     "shell.execute_reply.started": "2021-10-21T09:13:06.978898Z"
    },
    "papermill": {
     "duration": 0.062571,
     "end_time": "2021-10-21T09:36:34.367067",
     "exception": false,
     "start_time": "2021-10-21T09:36:34.304496",
     "status": "completed"
    },
    "tags": []
   },
   "outputs": [],
   "source": [
    "del data['rowNumber']"
   ]
  },
  {
   "cell_type": "code",
   "execution_count": 38,
   "id": "2f887468",
   "metadata": {
    "execution": {
     "iopub.execute_input": "2021-10-21T09:36:34.486166Z",
     "iopub.status.busy": "2021-10-21T09:36:34.485404Z",
     "iopub.status.idle": "2021-10-21T09:36:34.526573Z",
     "shell.execute_reply": "2021-10-21T09:36:34.526130Z",
     "shell.execute_reply.started": "2021-10-21T09:13:06.985265Z"
    },
    "papermill": {
     "duration": 0.106596,
     "end_time": "2021-10-21T09:36:34.526715",
     "exception": false,
     "start_time": "2021-10-21T09:36:34.420119",
     "status": "completed"
    },
    "tags": []
   },
   "outputs": [
    {
     "data": {
      "text/plain": [
       "title                      0\n",
       "totalyearlycompensation    0\n",
       "yearsofexperience          0\n",
       "yearsatcompany             0\n",
       "gender                     0\n",
       "dmaid                      0\n",
       "Masters_Degree             0\n",
       "Bachelors_Degree           0\n",
       "Doctorate_Degree           0\n",
       "Highschool                 0\n",
       "Some_College               0\n",
       "Race_Asian                 0\n",
       "Race_White                 0\n",
       "Race_Two_Or_More           0\n",
       "Race_Black                 0\n",
       "Race_Hispanic              0\n",
       "area                       0\n",
       "country                    0\n",
       "is_faang                   0\n",
       "dtype: int64"
      ]
     },
     "execution_count": 38,
     "metadata": {},
     "output_type": "execute_result"
    }
   ],
   "source": [
    "data.isna().sum()"
   ]
  },
  {
   "cell_type": "markdown",
   "id": "f55fa011",
   "metadata": {
    "papermill": {
     "duration": 0.051533,
     "end_time": "2021-10-21T09:36:34.629635",
     "exception": false,
     "start_time": "2021-10-21T09:36:34.578102",
     "status": "completed"
    },
    "tags": []
   },
   "source": [
    "The data has been cleaned, and therefore we are able to do some Exploratory Data Analysis (EDA) on the dataset."
   ]
  },
  {
   "cell_type": "markdown",
   "id": "6bf6af87",
   "metadata": {
    "papermill": {
     "duration": 0.050963,
     "end_time": "2021-10-21T09:36:34.732060",
     "exception": false,
     "start_time": "2021-10-21T09:36:34.681097",
     "status": "completed"
    },
    "tags": []
   },
   "source": [
    "## EDA \n",
    "\n",
    "First, let's split the columns into numerical columns and categorical columns."
   ]
  },
  {
   "cell_type": "code",
   "execution_count": 39,
   "id": "e1a1de10",
   "metadata": {
    "execution": {
     "iopub.execute_input": "2021-10-21T09:36:34.844973Z",
     "iopub.status.busy": "2021-10-21T09:36:34.844099Z",
     "iopub.status.idle": "2021-10-21T09:36:34.846327Z",
     "shell.execute_reply": "2021-10-21T09:36:34.845801Z",
     "shell.execute_reply.started": "2021-10-21T09:13:07.033958Z"
    },
    "papermill": {
     "duration": 0.061344,
     "end_time": "2021-10-21T09:36:34.846468",
     "exception": false,
     "start_time": "2021-10-21T09:36:34.785124",
     "status": "completed"
    },
    "tags": []
   },
   "outputs": [],
   "source": [
    "categorical = []\n",
    "numerical = []\n",
    "\n",
    "for column in data.columns:\n",
    "    if data[column].dtype == 'object':\n",
    "        categorical.append(column)\n",
    "    else:\n",
    "        numerical.append(column)"
   ]
  },
  {
   "cell_type": "code",
   "execution_count": 40,
   "id": "adb1bbaa",
   "metadata": {
    "execution": {
     "iopub.execute_input": "2021-10-21T09:36:34.999348Z",
     "iopub.status.busy": "2021-10-21T09:36:34.998694Z",
     "iopub.status.idle": "2021-10-21T09:36:35.001467Z",
     "shell.execute_reply": "2021-10-21T09:36:35.001997Z",
     "shell.execute_reply.started": "2021-10-21T09:13:07.040728Z"
    },
    "papermill": {
     "duration": 0.079261,
     "end_time": "2021-10-21T09:36:35.002173",
     "exception": false,
     "start_time": "2021-10-21T09:36:34.922912",
     "status": "completed"
    },
    "tags": []
   },
   "outputs": [
    {
     "name": "stdout",
     "output_type": "stream",
     "text": [
      "['title', 'gender', 'area', 'country']\n",
      "['totalyearlycompensation', 'yearsofexperience', 'yearsatcompany', 'dmaid', 'Masters_Degree', 'Bachelors_Degree', 'Doctorate_Degree', 'Highschool', 'Some_College', 'Race_Asian', 'Race_White', 'Race_Two_Or_More', 'Race_Black', 'Race_Hispanic', 'is_faang']\n"
     ]
    }
   ],
   "source": [
    "print(categorical)\n",
    "print(numerical)"
   ]
  },
  {
   "cell_type": "markdown",
   "id": "2338ba3d",
   "metadata": {
    "papermill": {
     "duration": 0.053863,
     "end_time": "2021-10-21T09:36:35.115014",
     "exception": false,
     "start_time": "2021-10-21T09:36:35.061151",
     "status": "completed"
    },
    "tags": []
   },
   "source": [
    "## Visualisations of numerical columns\n",
    "There are 3 visualisations that I will bunch together.\n",
    "- Education (i.e. High School, College, Bachelors Degree, Masters Degree, Doctorate Degree)\n",
    "- Race (i.e. Asian, White, Black, Hispanic, Two or More)\n",
    "- Years of Experience vs Years at Company \n",
    "\n",
    "Base Salary, Stock Grant Value, Bonus and Total Yearly Compensation is visualised as above.\n",
    "\n",
    "For more information on enumerate(), please visit the [link attached](https://www.programiz.com/python-programming/methods/built-in/enumerate) for how to use it!"
   ]
  },
  {
   "cell_type": "code",
   "execution_count": 41,
   "id": "b25d3daf",
   "metadata": {
    "execution": {
     "iopub.execute_input": "2021-10-21T09:36:35.221913Z",
     "iopub.status.busy": "2021-10-21T09:36:35.221392Z",
     "iopub.status.idle": "2021-10-21T09:36:35.838545Z",
     "shell.execute_reply": "2021-10-21T09:36:35.838112Z",
     "shell.execute_reply.started": "2021-10-21T09:13:07.060902Z"
    },
    "papermill": {
     "duration": 0.672475,
     "end_time": "2021-10-21T09:36:35.838688",
     "exception": false,
     "start_time": "2021-10-21T09:36:35.166213",
     "status": "completed"
    },
    "tags": []
   },
   "outputs": [
    {
     "data": {
      "image/png": "[encoded data removed]",
      "text/plain": [
       "<Figure size 2880x576 with 5 Axes>"
      ]
     },
     "metadata": {
      "needs_background": "light"
     },
     "output_type": "display_data"
    }
   ],
   "source": [
    "fig, axes = plt.subplots(1,5, sharey=True, figsize = (40, 8))\n",
    "fig.suptitle('Education')\n",
    "education = ['Highschool','Bachelors_Degree', 'Masters_Degree', 'Doctorate_Degree', 'Some_College']\n",
    "for i, x in enumerate(education):\n",
    "    sns.countplot(ax = axes[i], data=data, x=x)"
   ]
  },
  {
   "cell_type": "markdown",
   "id": "096705df",
   "metadata": {
    "papermill": {
     "duration": 0.051785,
     "end_time": "2021-10-21T09:36:35.943920",
     "exception": false,
     "start_time": "2021-10-21T09:36:35.892135",
     "status": "completed"
    },
    "tags": []
   },
   "source": [
    "We can tell that most of the people working in STEM and/or Data Science have a Master's Degree, followed by a Bachelor's Degree."
   ]
  },
  {
   "cell_type": "code",
   "execution_count": 42,
   "id": "5985da68",
   "metadata": {
    "execution": {
     "iopub.execute_input": "2021-10-21T09:36:36.050819Z",
     "iopub.status.busy": "2021-10-21T09:36:36.050306Z",
     "iopub.status.idle": "2021-10-21T09:36:36.551463Z",
     "shell.execute_reply": "2021-10-21T09:36:36.551042Z",
     "shell.execute_reply.started": "2021-10-21T09:13:07.824949Z"
    },
    "papermill": {
     "duration": 0.555386,
     "end_time": "2021-10-21T09:36:36.551581",
     "exception": false,
     "start_time": "2021-10-21T09:36:35.996195",
     "status": "completed"
    },
    "tags": []
   },
   "outputs": [
    {
     "data": {
      "image/png": "[encoded data removed]",
      "text/plain": [
       "<Figure size 2880x576 with 5 Axes>"
      ]
     },
     "metadata": {
      "needs_background": "light"
     },
     "output_type": "display_data"
    }
   ],
   "source": [
    "fig, axes = plt.subplots(1,5, sharey=True, figsize = (40, 8))\n",
    "fig.suptitle('Race')\n",
    "race = ['Race_Asian', 'Race_White', 'Race_Two_Or_More', 'Race_Black', 'Race_Hispanic']\n",
    "for i, x in enumerate(race):\n",
    "    sns.countplot(ax = axes[i], data=data, x=x)"
   ]
  },
  {
   "cell_type": "code",
   "execution_count": 43,
   "id": "6f74c3d9",
   "metadata": {
    "execution": {
     "iopub.execute_input": "2021-10-21T09:36:36.659950Z",
     "iopub.status.busy": "2021-10-21T09:36:36.659414Z",
     "iopub.status.idle": "2021-10-21T09:36:36.769110Z",
     "shell.execute_reply": "2021-10-21T09:36:36.769554Z",
     "shell.execute_reply.started": "2021-10-21T09:13:08.461629Z"
    },
    "papermill": {
     "duration": 0.165729,
     "end_time": "2021-10-21T09:36:36.769739",
     "exception": false,
     "start_time": "2021-10-21T09:36:36.604010",
     "status": "completed"
    },
    "tags": []
   },
   "outputs": [
    {
     "data": {
      "text/plain": [
       "<AxesSubplot:xlabel='is_faang', ylabel='count'>"
      ]
     },
     "execution_count": 43,
     "metadata": {},
     "output_type": "execute_result"
    },
    {
     "data": {
      "image/png": "[encoded data removed]",
      "text/plain": [
       "<Figure size 432x288 with 1 Axes>"
      ]
     },
     "metadata": {
      "needs_background": "light"
     },
     "output_type": "display_data"
    }
   ],
   "source": [
    "sns.countplot(x = 'is_faang', data = data)"
   ]
  },
  {
   "cell_type": "code",
   "execution_count": 44,
   "id": "526db7b4",
   "metadata": {
    "execution": {
     "iopub.execute_input": "2021-10-21T09:36:36.882672Z",
     "iopub.status.busy": "2021-10-21T09:36:36.882237Z",
     "iopub.status.idle": "2021-10-21T09:36:37.093454Z",
     "shell.execute_reply": "2021-10-21T09:36:37.093838Z",
     "shell.execute_reply.started": "2021-10-21T09:13:08.640629Z"
    },
    "papermill": {
     "duration": 0.262792,
     "end_time": "2021-10-21T09:36:37.094018",
     "exception": false,
     "start_time": "2021-10-21T09:36:36.831226",
     "status": "completed"
    },
    "tags": []
   },
   "outputs": [
    {
     "data": {
      "text/plain": [
       "(array([[3.4556e+04, 1.8404e+04, 8.2430e+03, 1.1570e+03, 2.1900e+02,\n",
       "         5.9000e+01, 3.0000e+00, 0.0000e+00, 0.0000e+00, 1.0000e+00],\n",
       "        [5.6503e+04, 5.0380e+03, 9.6900e+02, 1.2100e+02, 9.0000e+00,\n",
       "         1.0000e+00, 0.0000e+00, 0.0000e+00, 0.0000e+00, 1.0000e+00]]),\n",
       " array([ 0. ,  6.9, 13.8, 20.7, 27.6, 34.5, 41.4, 48.3, 55.2, 62.1, 69. ]),\n",
       " <a list of 2 BarContainer objects>)"
      ]
     },
     "execution_count": 44,
     "metadata": {},
     "output_type": "execute_result"
    },
    {
     "data": {
      "image/png": "[encoded data removed]",
      "text/plain": [
       "<Figure size 864x576 with 1 Axes>"
      ]
     },
     "metadata": {
      "needs_background": "light"
     },
     "output_type": "display_data"
    }
   ],
   "source": [
    "x = data['yearsofexperience']\n",
    "y = data['yearsatcompany']\n",
    "fig = plt.figure(figsize=(12,8))\n",
    "plt.hist([x, y], color=['r','b'], alpha=0.5)"
   ]
  },
  {
   "cell_type": "markdown",
   "id": "c9d0341a",
   "metadata": {
    "papermill": {
     "duration": 0.053557,
     "end_time": "2021-10-21T09:36:37.201130",
     "exception": false,
     "start_time": "2021-10-21T09:36:37.147573",
     "status": "completed"
    },
    "tags": []
   },
   "source": [
    "## Correlation between numerical columns"
   ]
  },
  {
   "cell_type": "code",
   "execution_count": 45,
   "id": "87403518",
   "metadata": {
    "execution": {
     "iopub.execute_input": "2021-10-21T09:36:37.312874Z",
     "iopub.status.busy": "2021-10-21T09:36:37.312350Z",
     "iopub.status.idle": "2021-10-21T09:36:38.589351Z",
     "shell.execute_reply": "2021-10-21T09:36:38.589894Z",
     "shell.execute_reply.started": "2021-10-21T09:13:08.917712Z"
    },
    "papermill": {
     "duration": 1.33432,
     "end_time": "2021-10-21T09:36:38.590065",
     "exception": false,
     "start_time": "2021-10-21T09:36:37.255745",
     "status": "completed"
    },
    "tags": []
   },
   "outputs": [
    {
     "data": {
      "text/plain": [
       "<AxesSubplot:>"
      ]
     },
     "execution_count": 45,
     "metadata": {},
     "output_type": "execute_result"
    },
    {
     "data": {
      "image/png": "[encoded data removed]",
      "text/plain": [
       "<Figure size 1440x1080 with 2 Axes>"
      ]
     },
     "metadata": {
      "needs_background": "light"
     },
     "output_type": "display_data"
    }
   ],
   "source": [
    "fig = plt.figure(figsize = (20,15))\n",
    "sns.heatmap(data.corr(), annot=True)"
   ]
  },
  {
   "cell_type": "markdown",
   "id": "cfce093c",
   "metadata": {
    "papermill": {
     "duration": 0.085603,
     "end_time": "2021-10-21T09:36:38.762340",
     "exception": false,
     "start_time": "2021-10-21T09:36:38.676737",
     "status": "completed"
    },
    "tags": []
   },
   "source": [
    "For the most part, we can see Total Yearly Compensation being affected heavily by years of experience, stockgrantvalue, dmaid as well as is_faang."
   ]
  },
  {
   "cell_type": "markdown",
   "id": "51794f41",
   "metadata": {
    "papermill": {
     "duration": 0.085449,
     "end_time": "2021-10-21T09:36:38.934289",
     "exception": false,
     "start_time": "2021-10-21T09:36:38.848840",
     "status": "completed"
    },
    "tags": []
   },
   "source": [
    "## Mutual Information score between categorical columns \n",
    "\n",
    "We can figure out the relationship between categorical columns and our target variable by using mutual information."
   ]
  },
  {
   "cell_type": "code",
   "execution_count": 46,
   "id": "7f630fbc",
   "metadata": {
    "execution": {
     "iopub.execute_input": "2021-10-21T09:36:39.112857Z",
     "iopub.status.busy": "2021-10-21T09:36:39.112335Z",
     "iopub.status.idle": "2021-10-21T09:36:39.284241Z",
     "shell.execute_reply": "2021-10-21T09:36:39.284579Z",
     "shell.execute_reply.started": "2021-10-21T09:13:10.685205Z"
    },
    "papermill": {
     "duration": 0.264153,
     "end_time": "2021-10-21T09:36:39.284744",
     "exception": false,
     "start_time": "2021-10-21T09:36:39.020591",
     "status": "completed"
    },
    "tags": []
   },
   "outputs": [],
   "source": [
    "from sklearn.metrics import mutual_info_score\n",
    "\n",
    "def mutual_info_salary_score(series):\n",
    "    return mutual_info_score(series, data.totalyearlycompensation)"
   ]
  },
  {
   "cell_type": "code",
   "execution_count": 47,
   "id": "0f1eaf02",
   "metadata": {
    "execution": {
     "iopub.execute_input": "2021-10-21T09:36:39.406220Z",
     "iopub.status.busy": "2021-10-21T09:36:39.405748Z",
     "iopub.status.idle": "2021-10-21T09:36:39.595768Z",
     "shell.execute_reply": "2021-10-21T09:36:39.595301Z",
     "shell.execute_reply.started": "2021-10-21T09:13:10.857520Z"
    },
    "papermill": {
     "duration": 0.255625,
     "end_time": "2021-10-21T09:36:39.595876",
     "exception": false,
     "start_time": "2021-10-21T09:36:39.340251",
     "status": "completed"
    },
    "tags": []
   },
   "outputs": [
    {
     "data": {
      "text/plain": [
       "area       0.815875\n",
       "country    0.249876\n",
       "title      0.114170\n",
       "gender     0.027958\n",
       "dtype: float64"
      ]
     },
     "execution_count": 47,
     "metadata": {},
     "output_type": "execute_result"
    }
   ],
   "source": [
    "mi = data[categorical].apply(mutual_info_salary_score)\n",
    "\n",
    "mi.sort_values(ascending=False)"
   ]
  },
  {
   "cell_type": "markdown",
   "id": "60d340dd",
   "metadata": {
    "papermill": {
     "duration": 0.054137,
     "end_time": "2021-10-21T09:36:39.705397",
     "exception": false,
     "start_time": "2021-10-21T09:36:39.651260",
     "status": "completed"
    },
    "tags": []
   },
   "source": [
    "Area has the strongest relationship with the target variable, as compared to the rest of the categorical variables."
   ]
  },
  {
   "cell_type": "markdown",
   "id": "c3755d22",
   "metadata": {
    "papermill": {
     "duration": 0.053867,
     "end_time": "2021-10-21T09:36:39.813030",
     "exception": false,
     "start_time": "2021-10-21T09:36:39.759163",
     "status": "completed"
    },
    "tags": []
   },
   "source": [
    "## Saving the clean dataset\n",
    "The next part of the project will be under the Hyperparameter Tuning section, which is solely a Github only notebook. Thank you for reading this notebook! \n",
    "\n",
    "(The slash after code is flipped to prevent the data from being saved every time the notebook is ran.)"
   ]
  },
  {
   "cell_type": "code",
   "execution_count": 48,
   "id": "394e6aa0",
   "metadata": {
    "execution": {
     "iopub.execute_input": "2021-10-21T09:36:39.923856Z",
     "iopub.status.busy": "2021-10-21T09:36:39.923391Z",
     "iopub.status.idle": "2021-10-21T09:36:40.255901Z",
     "shell.execute_reply": "2021-10-21T09:36:40.255462Z",
     "shell.execute_reply.started": "2021-10-21T09:13:51.972033Z"
    },
    "papermill": {
     "duration": 0.389415,
     "end_time": "2021-10-21T09:36:40.256009",
     "exception": false,
     "start_time": "2021-10-21T09:36:39.866594",
     "status": "completed"
    },
    "tags": []
   },
   "outputs": [],
   "source": [
    "data.to_csv(r'C:\\Users\\User\\Desktop\\midterm-project\\midterm-project\\code/cleaned_data.csv', index = False)"
   ]
  }
 ],
 "metadata": {
  "kernelspec": {
   "display_name": "Python 3 (ipykernel)",
   "language": "python",
   "name": "python3"
  },
  "language_info": {
   "codemirror_mode": {
    "name": "ipython",
    "version": 3
   },
   "file_extension": ".py",
   "mimetype": "text/x-python",
   "name": "python",
   "nbconvert_exporter": "python",
   "pygments_lexer": "ipython3",
   "version": "3.8.10"
  },
  "papermill": {
   "default_parameters": {},
   "duration": 26.52187,
   "end_time": "2021-10-21T09:36:41.125244",
   "environment_variables": {},
   "exception": null,
   "input_path": "__notebook__.ipynb",
   "output_path": "__notebook__.ipynb",
   "parameters": {},
   "start_time": "2021-10-21T09:36:14.603374",
   "version": "2.3.3"
  }
 },
 "nbformat": 4,
 "nbformat_minor": 5
}
